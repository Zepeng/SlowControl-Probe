{
 "cells": [
  {
   "cell_type": "markdown",
   "id": "84fc8f5f-63ab-4487-9dea-447928269b09",
   "metadata": {
    "tags": []
   },
   "source": [
    "# Temperature Control"
   ]
  },
  {
   "cell_type": "markdown",
   "id": "c147c2ec-7f26-4065-bc8f-e21c9dbc100d",
   "metadata": {},
   "source": [
    "Import all the necessary packages for the controller."
   ]
  },
  {
   "cell_type": "code",
   "execution_count": 1,
   "id": "b34fbf81-82be-45f4-a710-344211c44962",
   "metadata": {},
   "outputs": [],
   "source": [
    "from distutils.log import error\n",
    "import board\n",
    "import digitalio\n",
    "import adafruit_max31856\n",
    "import PID\n",
    "import time\n",
    "from datetime import datetime as dt\n",
    "import csv\n",
    "import matplotlib\n",
    "matplotlib.use(\"tkAgg\")\n",
    "import matplotlib.pyplot as plt\n",
    "import numpy as np\n",
    "import keyboard\n",
    "from tclab import clock, setup, Historian, Plotter\n",
    "import os\n",
    "import pandas\n",
    "from IPython.display import clear_output\n",
    "import traceback"
   ]
  },
  {
   "cell_type": "markdown",
   "id": "6942d2db-1793-416b-b11f-c9877d7374db",
   "metadata": {},
   "source": [
    "Get current directory so we can save log files in a separate folder."
   ]
  },
  {
   "cell_type": "code",
   "execution_count": 2,
   "id": "41b1778c-526a-448e-b0f3-7078425bd163",
   "metadata": {},
   "outputs": [],
   "source": [
    "ROOT_DIR = os.path.realpath(os.path.join(os.path.dirname(\"Temperature Control.ipynb\")))"
   ]
  },
  {
   "cell_type": "markdown",
   "id": "bce952a4-33c6-42d9-acbb-ea5c745e3cbc",
   "metadata": {},
   "source": [
    "Define functions to open a csv file that will be used for the temperature logs and other running information. This cell also includes a function that corrects the thermocouple temperature read by the ADAFRUIT MAX31856 amplifier using a two point calibration as described here :https://learn.adafruit.com/calibrating-sensors/two-point-calibration "
   ]
  },
  {
   "cell_type": "code",
   "execution_count": 3,
   "id": "665f7672-f582-49b3-9411-6913c87d9e06",
   "metadata": {},
   "outputs": [],
   "source": [
    "def log_temps(f_name,header,data):\n",
    "    temp_log_w=csv.writer(log_file)\n",
    "    temp_log_w.writerow(data)\n",
    "\n",
    "def open_file(file_name,data_header):\n",
    "    log_file = open(os.path.join(ROOT_DIR, 'Logs', file_name),'w',encoding='UTF8', newline='')     #Open the log file in the Log subfolder of the working directory with the specified filename\n",
    "    temp_log_w = csv.writer(log_file)\n",
    "    temp_log_w.writerow(data_header)     # writes the data header for the csv file\n",
    "    \n",
    "    return log_file     # returns the log file so it can be saved as a variable and manipulated later\n",
    "\n",
    "\n",
    "def calibrated_temps(temp, TC):\n",
    "    if 'HeatExB' in TC:\n",
    "        RawRange =  121\n",
    "        ReferenceRange = 126\n",
    "        ActualTemp = (((temp + 117) * ReferenceRange) / RawRange) - 108\n",
    "    if 'HeatExF' in TC:\n",
    "        RawRange = 184\n",
    "        ReferenceRange = 179\n",
    "        ActualTemp = (((temp + 174) * ReferenceRange) / RawRange) - 161\n",
    "    if 'ColdHead' in TC:\n",
    "        #RawRange = 187\n",
    "        #ReferenceRange = 185\n",
    "        #ActualTemp = (((temp + 167) * ReferenceRange) / RawRange) - 171\n",
    "        #Coldhead was consistent in its measurements, atleast at high temps, so leave it alone (pending more testing)\n",
    "        ActualTemp = temp\n",
    "    if 'Chamber' in TC:\n",
    "        #RawRange = 35\n",
    "        #ReferenceRange = 35\n",
    "        #At both high and low temps, Chamber was consistently 8 degrees colder than the thermometer measured\n",
    "        ActualTemp = temp + 7.6\n",
    "        \n",
    "    return ActualTemp"
   ]
  },
  {
   "cell_type": "markdown",
   "id": "7f7cdbf9-62ac-4829-af3e-f0acec037e88",
   "metadata": {},
   "source": [
    "Create the temperature log files using the current date and time in the format month day year then hour and minute. This cell also creates the header for the temperature log files"
   ]
  },
  {
   "cell_type": "code",
   "execution_count": 4,
   "id": "bda16be6-6ee5-4131-85f9-05d539231af3",
   "metadata": {},
   "outputs": [],
   "source": [
    "data_f_name='Temp log {}.csv'.format(dt.now().strftime('%m-%d-%Y, %H-%M'))\n",
    "data_header=['Rt', 'temp_ch', 'temp_hex_f', 'temp_hex_b', 'temp_chamber','Heat F','Heat B']\n",
    "# header reads [Real time, Cold head temp, Heat exchander front temp, heat exhchanger back temp, champer temp, PID controler 1 output, Heater 1 status, PID controler 2 output, Heater 2 status]\n",
    "log_file = open_file(data_f_name,data_header)"
   ]
  },
  {
   "cell_type": "markdown",
   "id": "e3e7605b-a7bf-4320-b025-b98013277ed0",
   "metadata": {},
   "source": [
    "Define the coldhead, heat exchanger front and back, chamber, and heater entities that will be controled."
   ]
  },
  {
   "cell_type": "code",
   "execution_count": 5,
   "id": "4c1f3a66-43b9-4cf0-be97-9c952b74b6f1",
   "metadata": {},
   "outputs": [],
   "source": [
    "# Create sensor object, communicating over the board's default SPI bus\n",
    "spi = board.SPI()\n",
    "\n",
    "# allocate a CS pin and set the direction\n",
    "cs13 = digitalio.DigitalInOut(board.D13)\n",
    "cs13.direction = digitalio.Direction.OUTPUT\n",
    "cs16 = digitalio.DigitalInOut(board.D16)\n",
    "cs16.direction = digitalio.Direction.OUTPUT\n",
    "cs25 = digitalio.DigitalInOut(board.D25)\n",
    "cs25.direction = digitalio.Direction.OUTPUT\n",
    "cs26 = digitalio.DigitalInOut(board.D26)\n",
    "cs26.direction = digitalio.Direction.OUTPUT\n",
    "HeaterF = digitalio.DigitalInOut(board.D17)\n",
    "HeaterF.direction= digitalio.Direction.OUTPUT\n",
    "HeaterB = digitalio.DigitalInOut(board.D18)\n",
    "HeaterB.direction = digitalio.Direction.OUTPUT\n",
    "\n",
    "# create a thermocouple object with the above pin assignements\n",
    "ColdHead = adafruit_max31856.MAX31856(spi, cs13,thermocouple_type=adafruit_max31856.ThermocoupleType.T)\n",
    "HeatExF = adafruit_max31856.MAX31856(spi, cs16,thermocouple_type=adafruit_max31856.ThermocoupleType.T)     #Heat exchanger thermocouple facing the coldhead\n",
    "HeatExB = adafruit_max31856.MAX31856(spi, cs25,thermocouple_type=adafruit_max31856.ThermocoupleType.T)     #Heat exchanger thermocouple facing the chamber\n",
    "Chamber = adafruit_max31856.MAX31856(spi, cs26,thermocouple_type=adafruit_max31856.ThermocoupleType.T)\n"
   ]
  },
  {
   "cell_type": "markdown",
   "id": "34f0ff7c-f1ba-44e7-87a3-44e067d7a31f",
   "metadata": {},
   "source": [
    "Initiate PID controls for Front Heat Exchanger"
   ]
  },
  {
   "cell_type": "code",
   "execution_count": 6,
   "id": "8fa19536-7da1-4822-b000-a91f8dd8f74d",
   "metadata": {},
   "outputs": [],
   "source": [
    "HeaterF.value = False\n",
    "HeatF_on=False\n",
    "targetT1 = -130   #initial inputs for PID control\n",
    "P1 = 0.7*0.6\n",
    "I1 = 0.7*1.2/58\n",
    "D1 = 3*0.7*58/40\n",
    "\n",
    "controllerF = PID.PID(P1, I1, D1)        # create pid control\n",
    "controllerF.SetPoint = targetT1             # initialize the controler\n",
    "controllerF.setSampleTime(2)"
   ]
  },
  {
   "cell_type": "markdown",
   "id": "8cabaed0-b1dd-4f42-965d-edfed3511f64",
   "metadata": {},
   "source": [
    "Initiate PID controls for Back Heat Exchanger"
   ]
  },
  {
   "cell_type": "markdown",
   "id": "ea9ab58f-482b-407e-9bf2-8cf11eac894c",
   "metadata": {},
   "source": [
    "Pretty good\n",
    "P1 = 0.6\n",
    "I1 = 1*1.2/65\n",
    "D1 = 3*1*65/40"
   ]
  },
  {
   "cell_type": "code",
   "execution_count": 7,
   "id": "f6672264-614f-45dc-8c16-52b61645d981",
   "metadata": {
    "tags": []
   },
   "outputs": [],
   "source": [
    "HeaterB.value = False \n",
    "HeatB_on = False\n",
    "targetT2 = -105     #initial inputr fot PID control\n",
    "P2 = 0.7*0.6\n",
    "I2 = 0.7*1.2/58\n",
    "D2 = 3*0.7*58/40\n",
    "\n",
    "controllerB = PID.PID(P2, I2, D2)     #creats the pid control\n",
    "controllerB.SetPoint = targetT2     #initialize the controler\n",
    "controllerB.setSampleTime(2)"
   ]
  },
  {
   "cell_type": "markdown",
   "id": "18e40c63-990d-49d7-9c2b-2c704b5e73cc",
   "metadata": {},
   "source": [
    "Read the coldhead, heat exchanger front and back, chamber temperatures then log them. These values are taken for initialization purposes"
   ]
  },
  {
   "cell_type": "code",
   "execution_count": 8,
   "id": "594198ff-e4d3-4104-a85f-43f99e78b5ef",
   "metadata": {},
   "outputs": [],
   "source": [
    "temp_coldhead=calibrated_temps(ColdHead.temperature, 'ColdHead')\n",
    "temp_HeatExF=calibrated_temps(HeatExF.temperature,'HeatExF')\n",
    "temp_HeatExB=calibrated_temps(HeatExB.temperature,'HeatExB')\n",
    "temp_chamber=calibrated_temps(Chamber.temperature, 'Chamber')\n",
    "MV1 = controllerF.output # get the new pid values\n",
    "MV2 = controllerB.output\n",
    "HeatF_status = 0 #0=False 1=True\n",
    "HeatB_status = 0 #0=False 1=True\n",
    "time_stamp = dt.now().strftime('%Y-%m-%d %H:%M:%S')\n",
    "log_temps(data_f_name,data_header,[dt.now().strftime('%Y-%m-%d %H:%M:%S'), temp_coldhead, temp_HeatExF, temp_HeatExB, temp_chamber, controllerF.output,\"False\", controllerB.output, \"False\"])\n",
    "log_file.flush() #pushes the data collected this loop to the csv."
   ]
  },
  {
   "cell_type": "code",
   "execution_count": null,
   "id": "1152763a-9e9e-4893-bbcc-bcfb122a75cb",
   "metadata": {},
   "outputs": [],
   "source": [
    "Ledger=np.array([[time_stamp], [temp_coldhead], [temp_HeatExF], [temp_HeatExB], [temp_chamber], [MV1], [HeatF_status], [MV2], [HeatB_status]])\n",
    "plt.ion()     #creates a floating interactive matplotlib plot \n",
    "fig, ax = plt.subplots(figsize=(12,5))     #initialize plots for the coldhead, heat exchanger front and back, chamber and put them all in one larer plot\n",
    "chline,  = ax.plot(Ledger[0,:], Ledger[1,:], label='Cold Head')\n",
    "hexfline, = ax.plot(Ledger[0,:], Ledger[2,:] label='Heat Exchanger Front')\n",
    "hexbline, = ax.plot(Ledger[0,:], Ledger[3,:] label='Heat Exchanger Back')\n",
    "chamberline, =ax.plot(Ledger[0,:], Ledger[4,:] label='Chamber')\n",
    "ax.locator_params(tight=True, nbins=10)\n",
    "ax.legend()\n",
    "ax.set_xlabel('Time (Hour:Min)')\n",
    "ax.set_ylabel('Temperature (Celsius)')"
   ]
  },
  {
   "cell_type": "markdown",
   "id": "ec9218b9-d6ea-4b55-83ab-b525d36fd59b",
   "metadata": {},
   "source": [
    "Create the temperature plot"
   ]
  },
  {
   "cell_type": "code",
   "execution_count": 9,
   "id": "5e2818f1-bc6f-4f49-a748-0f3deeeab8db",
   "metadata": {},
   "outputs": [
    {
     "name": "stderr",
     "output_type": "stream",
     "text": [
      "/tmp/ipykernel_1686/3583554292.py:21: UserWarning: 'set_params()' not defined for locator of type <class 'matplotlib.category.StrCategoryLocator'>\n",
      "  ax.locator_params(tight=True, nbins=10)\n"
     ]
    },
    {
     "data": {
      "text/plain": [
       "Text(0, 0.5, 'Temperature (Celsius)')"
      ]
     },
     "execution_count": 9,
     "metadata": {},
     "output_type": "execute_result"
    }
   ],
   "source": [
    "plot_window = 1\n",
    "coldhead_temps = np.array(np.zeros([plot_window]))     #initialize numpy arrays for the temperatures of the coldhead, heat exchanger front and back, chamber\n",
    "HeatExF_temps = np.array(np.zeros([plot_window]))\n",
    "HeatExB_temps = np.array(np.zeros([plot_window]))\n",
    "chamber_temps = np.array(np.zeros([plot_window]))\n",
    "coldhead_temps[0] = temp_coldhead # Sets the first value of each plot line\n",
    "HeatExF_temps[0] = temp_HeatExF\n",
    "HeatExB_temps[0] = temp_HeatExB\n",
    "chamber_temps[0] = temp_chamber\n",
    "time_stamps = []\n",
    "\n",
    "for i in range(plot_window):     #creates first timestamp that will be used for the x axis tick marks\n",
    "    time_stamps.append(dt.now().strftime('%H:%M:%S'))\n",
    "    #x_var.append(time.asctime(time.time()))\n",
    "plt.ion()     #creates a floating interactive matplotlib plot \n",
    "fig, ax = plt.subplots(figsize=(12,5))     #initialize plots for the coldhead, heat exchanger front and back, chamber and put them all in one larer plot\n",
    "chline,  = ax.plot(time_stamps, coldhead_temps, label='Cold Head')\n",
    "hexfline, = ax.plot(time_stamps, HeatExF_temps, label='Heat Exchanger Front')\n",
    "hexbline, = ax.plot(time_stamps, HeatExB_temps, label='Heat Exchanger Back')\n",
    "chamberline, =ax.plot(time_stamps, chamber_temps, label='Chamber')\n",
    "ax.locator_params(tight=True, nbins=10)\n",
    "ax.legend()\n",
    "ax.set_xlabel('Time (Hour:Min)')\n",
    "ax.set_ylabel('Temperature (Celsius)')\n",
    "# NOTE this cell raises  a matplotlib error. Ignore it, it does not appear to have any impact on the functioning of the program"
   ]
  },
  {
   "cell_type": "code",
   "execution_count": null,
   "id": "d0be48aa-53de-4e87-86f6-1f8c20118174",
   "metadata": {},
   "outputs": [],
   "source": [
    "try:     # try and excep statement used to catch error and log them to a specified file\n",
    "    runlen=0\n",
    "    itt_len=10\n",
    "    while True:\n",
    "        now = time.time() # keep track of when the loop starts so that we keep a consistant loop runtime \n",
    "        clear_output(wait=True)     #clears the print output from this cell \n",
    "        if os.stat(os.path.join(ROOT_DIR, 'Logs', data_f_name)).st_size>= 4194304:     #checks if the current log file is 4Mb, if it is it creates a new log file \n",
    "                data_f_name='Temp log {}.csv'.format(dt.now().strftime('%m-%d-%Y, %H-%M'))\n",
    "                log_file.close()\n",
    "                log_file = open_file(data_f_name, data_header)\n",
    "        temp_coldhead=calibrated_temps(ColdHead.temperature, 'ColdHead')     #reads the coldhead, heat exchanger front and back, chamber temepratures\n",
    "        temp_HeatExF=calibrated_temps(HeatExF.temperature,'HeatExF')\n",
    "        temp_HeatExB=calibrated_temps(HeatExB.temperature,'HeatExB')\n",
    "        temp_chamber=calibrated_temps(Chamber.temperature, 'Chamber')\n",
    "        controllerF.update(temp_HeatExF) # update the pid controlers\n",
    "        controllerB.update(temp_HeatExB)\n",
    "        MV1 = controllerF.output # get the new pid values\n",
    "        MV2 = controllerB.output\n",
    "        if MV1 > 0:      #temp too low turn heater on\n",
    "            HeaterF.value = True\n",
    "            HeatF_status = 1\n",
    "        else:     #turn heat off\n",
    "            HeaterF.value = False\n",
    "            HeatF_status = 0\n",
    "        if MV2 > 0:     #temp too low turn heater on\n",
    "            HeaterB.value = True\n",
    "            HeatB_status = 1\n",
    "        else:     #turn heat off\n",
    "            HeaterB.value = False\n",
    "            HeatB_status = 0\n",
    "        time_stamp= dt.now().strftime('%H:%M:%S')     #timestamp used for x axis tick\n",
    "        Ledger=np.append(Ledger,[[time_stamp], [temp_coldhead], [temp_HeatExF], [temp_HeatExB], [temp_chamber], [MV1], [HeatF_status], [MV2], [HeatB_status]] )\n",
    "        P_Ledger=Ledger.transpose()\n",
    "        to_print=pandas.DataFrame(columns=print_head)     #using a pandas dataframe create a pretty real time readout of the temperatures and status of the heaters\n",
    "        for i in P_Ledger[:,:]:\n",
    "            to_print.loc[len(to_print.index)]=i\n",
    "        print(to_print.to_markdown(tablefmt=\"simple_outline\",floatfmt=(\".2f\",\".2f\",\".2f\",\".2f\",\".3f\",\".3f\"),numalign=\"right\"))\n",
    "        if runlen==itt_len:     #change to be however many itterations you want before updating logs\n",
    "            Coldhead_avg=np.avg(Ledger[1,-itt_avg:])\n",
    "            HeatExF_avg=np.avg(Ledger[2,-itt_avg:])\n",
    "            HeatExB_avg=np.avg(Ledger[3,-itt_avg:])\n",
    "            Chamber_avg=np.avg(Ledger[4,-itt_avg:])\n",
    "            log_temps(data_f_name,data_header,[time_stamp, Coldhead_avg, HeatExF_avg, HeatExB_avg, Chamber_avg, HeatF_status , HeatB_status])     #write to temp log file\n",
    "            log_file.flush() #pushes the data collected this loop to the csv.\n",
    "            runlen = 0\n",
    "        if len(Ledger[1])>=300:     #create a 10 minute plot of temperature data\n",
    "            Ledger=np.delete(Ledger, obj=0,axis=1)\n",
    "        chline.set_ydata(Ledger[1,:])\n",
    "        chline.set_xdata(Ledger[0,:])\n",
    "        hexfline.set_ydata(Ledger[2,:])\n",
    "        hexfline.set_xdata(Ledger[0,:])\n",
    "        hexbline.set_ydata(Ledger[3,:])\n",
    "        hexbline.set_xdata(Ledger[0,:])\n",
    "        chamberline.set_ydata(Ledger[4,:])\n",
    "        chamberline.set_xdata(Ledger[0,:])\n",
    "        #ax.set_ylim(0,24)\n",
    "        ax.set_xticks(Ledger[0,-301::50])     #10 minutes of timestamps in 100 second intervals\n",
    "        ax.set_xticklabels(Ledger[0,-301::50],rotation=25)\n",
    "        ax.relim()\n",
    "        ax.autoscale_view()\n",
    "        fig.canvas.draw()\n",
    "        fig.canvas.flush_events()\n",
    "        elapsed = time.time() - now  # how long was it running?\n",
    "        try:time.sleep(1.-elapsed)     # make the loop run every 2 seconds\n",
    "        except: time.sleep(0.5)\n",
    "        runlen += 1\n",
    "        \n",
    "#Opens the relays (stops the heaters) when program interrupted\n",
    "except Exception as e:\n",
    "    HeaterF.value = False\n",
    "    HeatF_on = False\n",
    "    HeaterB.value = False\n",
    "    HeatB_on = False\n",
    "    \n",
    "    if e == 'KeyboardInterrupt':\n",
    "        print('Interrupted')\n",
    "    else:      #code to write any errors to a specified error log file in the logs subdirectory of the working directory\n",
    "        if not os.path.exists(os.path.join(ROOT_DIR, 'Logs', 'Error Logs.txt')):\n",
    "            with open(os.path.join(ROOT_DIR, 'Logs', 'Error Logs'), 'w', encoding='UTF-8') as file:\n",
    "                file.write('')\n",
    "        with open(os.path.join(ROOT_DIR, 'Logs', 'Error Logs'), 'a', encoding='UTF-8') as file:\n",
    "            file.write('-------------------------------------------------'+'\\n')\n",
    "            file.write(dt.now().strftime('%Y-%m-%d %H:%M:%S')+'\\n')\n",
    "            traceback.print_exc(file=file)\n",
    "            file.write('\\n')\n",
    "        traceback.print_exc()"
   ]
  },
  {
   "cell_type": "markdown",
   "id": "2886099d-b90e-496a-b1f7-25ab014ce24e",
   "metadata": {},
   "source": [
    "Loop that reads the temperatures of the coldhead, heat exchanger front and back, chamber logs them, updates the PID control and runs the heater, then plots the tmperatures."
   ]
  },
  {
   "cell_type": "code",
   "execution_count": null,
   "id": "a43cca4a-cc80-4456-bf04-7a6315bf3ab0",
   "metadata": {
    "tags": []
   },
   "outputs": [
    {
     "name": "stdout",
     "output_type": "stream",
     "text": [
      "┌────┬─────────────────────┬────────────┬────────────────────────┬───────────────────────┬───────────┬───────────────┬───────────────────┬───────────────┬───────────────────┐\n",
      "│    │ Time                │   Coldhead │   Heat Exchanger Front │   Heat Exchanger Back │   Chamber │   PID1 Output │ Heater17 Status   │   PID2 Output │ Heater18 Status   │\n",
      "├────┼─────────────────────┼────────────┼────────────────────────┼───────────────────────┼───────────┼───────────────┼───────────────────┼───────────────┼───────────────────┤\n",
      "│  0 │ 2022-10-21 16:09:52 │    -161.01 │                -130.21 │              -101.825 │    -6.861 │    -0.0152099 │ Off               │      -1.59212 │ Off               │\n",
      "│  1 │ 2022-10-21 16:09:54 │    -160.84 │                -130.27 │              -101.785 │    -6.923 │     -0.062933 │ Off               │      -1.70175 │ Off               │\n",
      "│  2 │ 2022-10-21 16:09:56 │    -160.84 │                -130.43 │              -101.842 │    -6.861 │      0.167427 │ On                │      -1.52952 │ Off               │\n",
      "│  3 │ 2022-10-21 16:09:58 │    -160.96 │                -130.58 │              -101.825 │    -6.923 │      0.167427 │ On                │      -1.52952 │ Off               │\n",
      "│  4 │ 2022-10-21 16:10:00 │    -161.03 │                -130.66 │              -101.825 │    -6.861 │      0.232295 │ On                │      -1.63544 │ Off               │\n",
      "│  5 │ 2022-10-21 16:10:02 │    -161.01 │                -130.74 │              -101.711 │    -6.861 │      0.232295 │ On                │      -1.63544 │ Off               │\n",
      "│  6 │ 2022-10-21 16:10:04 │    -161.10 │                -130.72 │              -101.711 │    -6.939 │       0.17201 │ On                │       -1.7577 │ Off               │\n",
      "│  7 │ 2022-10-21 16:10:06 │    -161.01 │                -130.70 │              -101.728 │    -6.822 │      0.101941 │ On                │      -1.63942 │ Off               │\n",
      "│  8 │ 2022-10-21 16:10:08 │    -160.96 │                -130.48 │              -101.899 │    -6.978 │      0.101941 │ On                │      -1.63942 │ Off               │\n",
      "│  9 │ 2022-10-21 16:10:10 │    -160.98 │                -130.23 │              -101.671 │    -6.923 │     -0.408164 │ Off               │      -1.73144 │ Off               │\n",
      "│ 10 │ 2022-10-21 16:10:12 │    -160.96 │                -130.01 │              -101.752 │    -6.806 │     -0.474851 │ Off               │      -1.53047 │ Off               │\n",
      "│ 11 │ 2022-10-21 16:10:14 │    -160.96 │                -129.68 │              -101.825 │    -6.923 │     -0.784326 │ Off               │      -1.51169 │ Off               │\n",
      "│ 12 │ 2022-10-21 16:10:16 │    -160.89 │                -129.41 │              -101.711 │    -6.939 │     -0.820292 │ Off               │      -1.84395 │ Off               │\n",
      "│ 13 │ 2022-10-21 16:10:18 │    -161.05 │                -128.92 │              -101.785 │    -6.869 │     -0.820292 │ Off               │      -1.84395 │ Off               │\n",
      "│ 14 │ 2022-10-21 16:10:20 │    -161.05 │                -128.70 │              -101.752 │    -6.806 │       -1.3371 │ Off               │       -1.6227 │ Off               │\n",
      "│ 15 │ 2022-10-21 16:10:22 │    -160.89 │                -128.46 │              -101.711 │    -6.783 │      -1.30637 │ Off               │      -1.73245 │ Off               │\n",
      "│ 16 │ 2022-10-21 16:10:24 │    -160.96 │                -128.31 │              -101.768 │    -6.822 │      -1.30637 │ Off               │      -1.73245 │ Off               │\n",
      "│ 17 │ 2022-10-21 16:10:26 │    -160.96 │                -128.07 │              -101.752 │    -6.861 │      -1.39529 │ Off               │       -1.6229 │ Off               │\n",
      "│ 18 │ 2022-10-21 16:10:28 │    -160.98 │                -127.99 │              -101.801 │    -6.822 │      -1.39529 │ Off               │       -1.6229 │ Off               │\n",
      "│ 19 │ 2022-10-21 16:10:30 │    -160.98 │                -127.95 │              -101.785 │    -6.767 │      -1.24489 │ Off               │      -1.61527 │ Off               │\n",
      "│ 20 │ 2022-10-21 16:10:32 │    -160.89 │                -127.85 │              -101.695 │    -6.791 │       -1.3425 │ Off               │      -1.81263 │ Off               │\n",
      "└────┴─────────────────────┴────────────┴────────────────────────┴───────────────────────┴───────────┴───────────────┴───────────────────┴───────────────┴───────────────────┘\n"
     ]
    }
   ],
   "source": [
    "print_log=[]     #these two lines are used for the real time readout of the coldhead, heat exchanger front and back, chamber status\n",
    "print_head=[\"Time\" ,\"Coldhead\", \"Heat Exchanger Front\", \"Heat Exchanger Back\", \"Chamber\", \"PID1 Output\", \"Heater17 Status\", \"PID2 Output\", \"Heater18 Status\"]\n",
    "try:     # try and excep statement used to catch error and log them to a specified file\n",
    "    runlen=0\n",
    "    itt_len=10\n",
    "    while True:\n",
    "        now = time.time() # keep track of when the loop starts so that we keep a consistant loop runtime \n",
    "        clear_output(wait=True)     #clears the print output from this cell \n",
    "        if os.stat(os.path.join(ROOT_DIR, 'Logs', data_f_name)).st_size>= 4194304:     #checks if the current log file is 4Mb, if it is it creates a new log file \n",
    "                data_f_name='Temp log {}.csv'.format(dt.now().strftime('%m-%d-%Y, %H-%M'))\n",
    "                log_file.close()\n",
    "                log_file = open_file(data_f_name, data_header)\n",
    "        temp_coldhead=calibrated_temps(ColdHead.temperature, 'ColdHead')     #reads the coldhead, heat exchanger front and back, chamber temepratures\n",
    "        temp_HeatExF=calibrated_temps(HeatExF.temperature,'HeatExF')\n",
    "        temp_HeatExB=calibrated_temps(HeatExB.temperature,'HeatExB')\n",
    "        temp_chamber=calibrated_temps(Chamber.temperature, 'Chamber')\n",
    "        controllerF.update(temp_HeatExF) # update the pid controlers\n",
    "        controllerB.update(temp_HeatExB)\n",
    "        MV1 = controllerF.output # get the new pid values\n",
    "        MV2 = controllerB.output\n",
    "        if MV1 > 0:      #temp too low turn heater on\n",
    "            HeaterF.value = True\n",
    "            HeatF_status = 1\n",
    "        else:     #turn heat off\n",
    "            HeaterF.value = False\n",
    "            HeatF_status = 0\n",
    "        if MV2 > 0:     #temp too low turn heater on\n",
    "            HeaterB.value = True\n",
    "            HeatB_status = 1\n",
    "        else:     #turn heat off\n",
    "            HeaterB.value = False\n",
    "            HeatB_status = 0\n",
    "        coldhead_temps = np.append(coldhead_temps, temp_coldhead)     #update numpy arrays of temps\n",
    "        HeatExF_temps = np.append(HeatExF_temps, temp_HeatExF)\n",
    "        HeatExB_temps = np.append(HeatExB_temps, temp_HeatExB)\n",
    "        chamber_temps = np.append(chamber_temps, temp_chamber)\n",
    "        time_stamps.append(dt.now().strftime('%H:%M:%S'))     #timestamp used for x axis tick\n",
    "        if runlen==itt_len:     #change to be however many itterations you want before updating logs\n",
    "            Coldhead_avg=np.avg(coldhead_temps[-itt_avg:])\n",
    "            HeatExF=np.avg(HeatExF_temps[-itt_avg:])\n",
    "            HeatExB=np.avg(HeatExB_temps[-itt_avg:])\n",
    "            Chamber=np.avg(chamber_temps[-itt_avg:])\n",
    "            log_temps(data_f_name,data_header,[dt.now().strftime('%Y-%m-%d %H:%M:%S'), temp_coldhead, temp_HeatExF, temp_HeatExB, temp_chamber, HeatF_status , HeatB_status])     #write to temp log file\n",
    "            log_file.flush() #pushes the data collected this loop to the csv.\n",
    "            runlen = 0\n",
    "        log_temps(data_f_name,data_header,[dt.now().strftime('%Y-%m-%d %H:%M:%S'), temp_coldhead, temp_HeatExF, temp_HeatExB, temp_chamber, HeatF_status , HeatB_status])     #write to temp log file\n",
    "        log_file.flush() #pushes the data collected this loop to the csv.\n",
    "        if len(print_log)<=20:     #adds data to the print log if the log is less than 20 entries otherwise remove the oldest and then updats the log\n",
    "            print_log.append([dt.now().strftime('%Y-%m-%d %H:%M:%S'), temp_coldhead, temp_HeatExF, temp_HeatExB, temp_chamber, HeatF_status , HeatB_status])\n",
    "        else:\n",
    "            print_log.pop(0)\n",
    "            print_log.append([dt.now().strftime('%Y-%m-%d %H:%M:%S'), temp_coldhead, temp_HeatExF, temp_HeatExB, temp_chamber, MV1, HeatF_status, MV2, HeatB_status])\n",
    "        to_print=pandas.DataFrame(print_log,index=None, columns=print_head)     #using a pandas dataframe create a pretty real time readout of the temperatures and status of the heaters\n",
    "        \n",
    "        print(to_print.to_markdown(tablefmt=\"simple_outline\",floatfmt=(\".2f\",\".2f\",\".2f\",\".2f\",\".3f\",\".3f\"),numalign=\"right\"))\n",
    "        if len(coldhead_temps)<=300:     #create a 10 minute plot of temperature data\n",
    "            chline.set_ydata(coldhead_temps)\n",
    "            chline.set_xdata(time_stamps)\n",
    "            hexfline.set_ydata(HeatExF_temps)\n",
    "            hexfline.set_xdata(time_stamps)\n",
    "            hexbline.set_ydata(HeatExB_temps)\n",
    "            hexbline.set_xdata(time_stamps)\n",
    "            chamberline.set_ydata(chamber_temps)\n",
    "            chamberline.set_xdata(time_stamps)\n",
    "        else:# if the program has been running for longer than 10 minuts take the last 10 minuts of data for the plot\n",
    "            chline.set_ydata(coldhead_temps[-300:])\n",
    "            chline.set_xdata(time_stamps[-300:])\n",
    "            hexfline.set_ydata(HeatExF_temps[-300:])\n",
    "            hexfline.set_xdata(time_stamps[-300:])\n",
    "            hexbline.set_ydata(HeatExB_temps[-300:])\n",
    "            hexbline.set_xdata(time_stamps[-300:])\n",
    "            chamberline.set_ydata(chamber_temps[-300:])\n",
    "            chamberline.set_xdata(time_stamps[-300:])\n",
    "        #ax.set_ylim(0,24)\n",
    "        ax.set_xticks(time_stamps[-301::50])     #10 minutes of timestamps in 100 second intervals\n",
    "        ax.set_xticklabels(time_stamps[-301::50],rotation=25)\n",
    "        ax.relim()\n",
    "        ax.autoscale_view()\n",
    "        fig.canvas.draw()\n",
    "        fig.canvas.flush_events()\n",
    "        elapsed = time.time() - now  # how long was it running?\n",
    "        try:time.sleep(1.-elapsed)     # make the loop run every 2 seconds\n",
    "        except: time.sleep(0.5)\n",
    "        runlen += 1\n",
    "        \n",
    "#Opens the relays (stops the heaters) when program interrupted\n",
    "except Exception as e:\n",
    "    HeaterF.value = False\n",
    "    HeatF_on = False\n",
    "    HeaterB.value = False\n",
    "    HeatB_on = False\n",
    "    \n",
    "    if e == 'KeyboardInterrupt':\n",
    "        print('Interrupted')\n",
    "    else:      #code to write any errors to a specified error log file in the logs subdirectory of the working directory\n",
    "        if not os.path.exists(os.path.join(ROOT_DIR, 'Logs', 'Error Logs.txt')):\n",
    "            with open(os.path.join(ROOT_DIR, 'Logs', 'Error Logs'), 'w', encoding='UTF-8') as file:\n",
    "                file.write('')\n",
    "        with open(os.path.join(ROOT_DIR, 'Logs', 'Error Logs'), 'a', encoding='UTF-8') as file:\n",
    "            file.write('-------------------------------------------------'+'\\n')\n",
    "            file.write(dt.now().strftime('%Y-%m-%d %H:%M:%S')+'\\n')\n",
    "            traceback.print_exc(file=file)\n",
    "            file.write('\\n')\n",
    "        traceback.print_exc()"
   ]
  },
  {
   "cell_type": "code",
   "execution_count": null,
   "id": "1d6bcd14-2a89-47a2-b664-096cd0b3d42d",
   "metadata": {},
   "outputs": [],
   "source": []
  }
 ],
 "metadata": {
  "kernelspec": {
   "display_name": "Python 3 (ipykernel)",
   "language": "python",
   "name": "python3"
  },
  "language_info": {
   "codemirror_mode": {
    "name": "ipython",
    "version": 3
   },
   "file_extension": ".py",
   "mimetype": "text/x-python",
   "name": "python",
   "nbconvert_exporter": "python",
   "pygments_lexer": "ipython3",
   "version": "3.9.13"
  }
 },
 "nbformat": 4,
 "nbformat_minor": 5
}
