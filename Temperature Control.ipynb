{
 "cells": [
  {
   "cell_type": "markdown",
   "id": "84fc8f5f-63ab-4487-9dea-447928269b09",
   "metadata": {
    "tags": []
   },
   "source": [
    "# Temperature Control"
   ]
  },
  {
   "cell_type": "markdown",
   "id": "c147c2ec-7f26-4065-bc8f-e21c9dbc100d",
   "metadata": {},
   "source": [
    "Import necessary packages"
   ]
  },
  {
   "cell_type": "code",
   "execution_count": 1,
   "id": "b34fbf81-82be-45f4-a710-344211c44962",
   "metadata": {},
   "outputs": [],
   "source": [
    "from distutils.log import error\n",
    "import board\n",
    "import digitalio\n",
    "import adafruit_max31856\n",
    "import time\n",
    "from datetime import datetime as dt\n",
    "import csv\n",
    "import matplotlib\n",
    "matplotlib.use(\"tkAgg\")\n",
    "import matplotlib.pyplot as plt\n",
    "import numpy as np\n",
    "import keyboard\n",
    "from tclab import clock, setup, Historian, Plotter\n",
    "import PID\n",
    "import os\n",
    "from IPython.display import clear_output"
   ]
  },
  {
   "cell_type": "markdown",
   "id": "6942d2db-1793-416b-b11f-c9877d7374db",
   "metadata": {},
   "source": [
    "Get current directory so we can save log files in a separate folder."
   ]
  },
  {
   "cell_type": "code",
   "execution_count": 2,
   "id": "41b1778c-526a-448e-b0f3-7078425bd163",
   "metadata": {},
   "outputs": [],
   "source": [
    "ROOT_DIR = os.path.realpath(os.path.join(os.path.dirname(\"Temperature Control.ipynb\")))"
   ]
  },
  {
   "cell_type": "markdown",
   "id": "bce952a4-33c6-42d9-acbb-ea5c745e3cbc",
   "metadata": {},
   "source": [
    "Define the temperature and error logging functions that output to csv and text files respectivly."
   ]
  },
  {
   "cell_type": "code",
   "execution_count": 3,
   "id": "665f7672-f582-49b3-9411-6913c87d9e06",
   "metadata": {},
   "outputs": [],
   "source": [
    "def log_error(f_name,error,time,first):\n",
    "    if first==True:\n",
    "        with open(os.path.join(ROOT_DIR, 'Logs', f_name),'w',encoding='UTF8',newline='') as err_log_file:\n",
    "            err_log_file.write('')\n",
    "    else:\n",
    "        with open(os.path.join(ROOT_DIR, 'Logs', f_name),'a',encoding='UTF8',newline='') as err_log_file:\n",
    "            err_log_file.write(\"\\n\".join('{} at t= {}'.format(error,str(time))))\n",
    "\n",
    "def log_temps(f_name,header,data,first):\n",
    "    if first==True:\n",
    "        with open(os.path.join(ROOT_DIR, 'Logs', f_name),'w',encoding='UTF8', newline='') as temp_log_file:\n",
    "            temp_log_w=csv.writer(temp_log_file)    #temperature log file\n",
    "            temp_log_w.writerow(header)\n",
    "    else:\n",
    "        with open(os.path.join(ROOT_DIR, 'Logs', f_name),'a',encoding='UTF8', newline='') as temp_log_file:\n",
    "            temp_log_w=csv.writer(temp_log_file)    #temperature log file\n",
    "            temp_log_w.writerow(data)"
   ]
  },
  {
   "cell_type": "markdown",
   "id": "7f7cdbf9-62ac-4829-af3e-f0acec037e88",
   "metadata": {},
   "source": [
    "Create the temperature and error log files."
   ]
  },
  {
   "cell_type": "code",
   "execution_count": 4,
   "id": "bda16be6-6ee5-4131-85f9-05d539231af3",
   "metadata": {},
   "outputs": [],
   "source": [
    "data_f_name=ROOT_DIR+'/Logs/Temp log {}.csv'.format(dt.now().strftime('%m-%d-%Y, %H-%M'))\n",
    "data_header=['Rt', 'temp_ch', 'temp_hex_f', 'temp_hex_b', 'temp_chamber', 'MV1','Heater17 On', 'MV2','Heater18 On']\n",
    "log_temps(data_f_name,data_header,[0,0,0,0,0,0,0,0],True)\n",
    "updated=False"
   ]
  },
  {
   "cell_type": "markdown",
   "id": "e3e7605b-a7bf-4320-b025-b98013277ed0",
   "metadata": {},
   "source": [
    "Define the coldhead, heat exchanger, chamber, and heater entities that will be controled."
   ]
  },
  {
   "cell_type": "code",
   "execution_count": 5,
   "id": "4c1f3a66-43b9-4cf0-be97-9c952b74b6f1",
   "metadata": {},
   "outputs": [],
   "source": [
    "# Create sensor object, communicating over the board's default SPI bus\n",
    "spi = board.SPI()\n",
    "\n",
    "# allocate a CS pin and set the direction\n",
    "cs13 = digitalio.DigitalInOut(board.D13)\n",
    "cs13.direction = digitalio.Direction.OUTPUT\n",
    "cs25 = digitalio.DigitalInOut(board.D25)\n",
    "cs25.direction = digitalio.Direction.OUTPUT\n",
    "cs26 = digitalio.DigitalInOut(board.D26)\n",
    "cs26.direction = digitalio.Direction.OUTPUT\n",
    "cs16 = digitalio.DigitalInOut(board.D16)\n",
    "cs16.direction = digitalio.Direction.OUTPUT\n",
    "HeaterF = digitalio.DigitalInOut(board.D17)\n",
    "HeaterF.direction= digitalio.Direction.OUTPUT\n",
    "HeaterB = digitalio.DigitalInOut(board.D18)\n",
    "HeaterB.direction = digitalio.Direction.OUTPUT\n",
    "\n",
    "\n",
    "# create a thermocouple object with the above\n",
    "ColdHead = adafruit_max31856.MAX31856(spi, cs25,thermocouple_type=adafruit_max31856.ThermocoupleType.T)\n",
    "HeatExF = adafruit_max31856.MAX31856(spi, cs13,thermocouple_type=adafruit_max31856.ThermocoupleType.T)\n",
    "HeatExB = adafruit_max31856.MAX31856(spi, cs16,thermocouple_type=adafruit_max31856.ThermocoupleType.T)\n",
    "Chamber = adafruit_max31856.MAX31856(spi, cs26,thermocouple_type=adafruit_max31856.ThermocoupleType.T)\n"
   ]
  },
  {
   "cell_type": "markdown",
   "id": "34f0ff7c-f1ba-44e7-87a3-44e067d7a31f",
   "metadata": {},
   "source": [
    "Initiate PID controls for Front Heat Exchanger"
   ]
  },
  {
   "cell_type": "code",
   "execution_count": 6,
   "id": "8fa19536-7da1-4822-b000-a91f8dd8f74d",
   "metadata": {},
   "outputs": [],
   "source": [
    "HeaterF.value = False\n",
    "HeatF_on=True\n",
    "targetT1 = -105    #initial inputs for PID control\n",
    "P1 = 2500\n",
    "I1 = 2\n",
    "D1 = 0\n",
    "\n",
    "controllerF = PID.PID(P1, I1, D1)        # create pid control\n",
    "controllerF.SetPoint = targetT1             # initialize\n",
    "controllerF.setSampleTime(3)"
   ]
  },
  {
   "cell_type": "markdown",
   "id": "8cabaed0-b1dd-4f42-965d-edfed3511f64",
   "metadata": {},
   "source": [
    "Initiate PID controls for Back Heat Exchanger"
   ]
  },
  {
   "cell_type": "code",
   "execution_count": 7,
   "id": "f6672264-614f-45dc-8c16-52b61645d981",
   "metadata": {},
   "outputs": [],
   "source": [
    "HeaterB.value = False \n",
    "HeatB_on = True\n",
    "targetT2 = -105\n",
    "P2 = 2500\n",
    "I2 = 2\n",
    "D2 = 0\n",
    "\n",
    "controllerB = PID.PID(P2, I2, D2)\n",
    "controllerB.SetPoint = targetT2\n",
    "controllerB.setSampleTime(3)"
   ]
  },
  {
   "cell_type": "markdown",
   "id": "18e40c63-990d-49d7-9c2b-2c704b5e73cc",
   "metadata": {},
   "source": [
    "Read the coldhead, heat exhanger and chamber temperatures then log them."
   ]
  },
  {
   "cell_type": "code",
   "execution_count": 8,
   "id": "594198ff-e4d3-4104-a85f-43f99e78b5ef",
   "metadata": {},
   "outputs": [],
   "source": [
    "temp_coldhead=ColdHead.temperature\n",
    "temp_HeatExF=HeatExF.temperature\n",
    "temp_HeatExB=HeatExB.temperature\n",
    "temp_chamber=Chamber.temperature\n",
    "\n",
    "log_temps(data_f_name,data_header,[dt.now().strftime('%Y-%m-%d %H:%M:%S'), temp_coldhead, temp_HeatExF, temp_HeatExB, temp_chamber, controllerF.output,\"False\", controllerB.output, \"False\"],False)"
   ]
  },
  {
   "cell_type": "markdown",
   "id": "ec9218b9-d6ea-4b55-83ab-b525d36fd59b",
   "metadata": {},
   "source": [
    "Create the temperature plot"
   ]
  },
  {
   "cell_type": "code",
   "execution_count": 9,
   "id": "5e2818f1-bc6f-4f49-a748-0f3deeeab8db",
   "metadata": {},
   "outputs": [
    {
     "name": "stderr",
     "output_type": "stream",
     "text": [
      "/tmp/ipykernel_28796/643317237.py:18: UserWarning: 'set_params()' not defined for locator of type <class 'matplotlib.category.StrCategoryLocator'>\n",
      "  ax.locator_params(tight=True, nbins=4)\n"
     ]
    },
    {
     "data": {
      "text/plain": [
       "Text(0, 0.5, 'Temperature (Celsius)')"
      ]
     },
     "execution_count": 9,
     "metadata": {},
     "output_type": "execute_result"
    }
   ],
   "source": [
    "plot_window = 10\n",
    "coldhead_temps = np.array(np.zeros([plot_window]))\n",
    "HeatExF_temps = np.array(np.zeros([plot_window]))\n",
    "HeatExB_temps = np.array(np.zeros([plot_window]))\n",
    "chamber_temps = np.array(np.zeros([plot_window]))\n",
    "time_stamps = []\n",
    "#np.array(np.zeros([plot_window]))\n",
    "for i in range(plot_window):\n",
    "    time_stamps.append(dt.now().strftime('%H:%M:%S'))\n",
    "    #x_var.append(time.asctime(time.time()))\n",
    "plt.ion()\n",
    "fig, ax = plt.subplots()\n",
    "chline,  = ax.plot(time_stamps, coldhead_temps, label='Cold Head')\n",
    "hexfline, = ax.plot(time_stamps, HeatExF_temps, label='Heat Exchanger Front')\n",
    "hexbline, = ax.plot(time_stamps, HeatExB_temps, label='Heat Exchanger Back')\n",
    "chamberline, =ax.plot(time_stamps, chamber_temps, label='Chamber')\n",
    "plot_window = 3000\n",
    "ax.locator_params(tight=True, nbins=4)\n",
    "ax.legend()\n",
    "ax.set_xlabel('Time (Hour:Min)')\n",
    "ax.set_ylabel('Temperature (Celsius)')"
   ]
  },
  {
   "cell_type": "markdown",
   "id": "2886099d-b90e-496a-b1f7-25ab014ce24e",
   "metadata": {},
   "source": [
    "Loop that reads the temperatures of the coldhead, heat exhanger and chamber logs them, updates the PID control and runs the heater, then plots the tmperatures."
   ]
  },
  {
   "cell_type": "code",
   "execution_count": null,
   "id": "a43cca4a-cc80-4456-bf04-7a6315bf3ab0",
   "metadata": {
    "tags": []
   },
   "outputs": [
    {
     "name": "stdout",
     "output_type": "stream",
     "text": [
      "Time | Coldhead | Heat Exchanger Front | Heat Exchanger Back | Chamber | PID1 Output | Heater17 Status | PID2 Output | Heater18 Status\n",
      "2022-10-04 14:11:56 | -123.0546875 | -60.65625 | -8.59375 | 18.7421875 | -110899.375 | Off | -241055.625 | Off\n",
      "2022-10-04 14:12:00 | -123.09375 | -60.671875 | -8.5703125 | 18.671875 | -110860.3125 | Off | -241114.21875 | Off\n",
      "2022-10-04 14:12:04 | -123.0546875 | -60.7890625 | -8.5703125 | 18.65625 | -110567.34375 | Off | -241114.21875 | Off\n",
      "2022-10-04 14:12:08 | -123.1171875 | -60.9375 | -8.6953125 | 18.609375 | -110196.25 | Off | -240801.71875 | Off\n",
      "2022-10-04 14:12:12 | -123.328125 | -60.84375 | -8.78125 | 18.765625 | -110430.625 | Off | -240586.875 | Off\n",
      "2022-10-04 14:12:16 | -123.328125 | -61.0 | -8.7578125 | 18.7421875 | -110040.0 | Off | -240645.46875 | Off\n",
      "2022-10-04 14:12:20 | -123.2265625 | -61.0078125 | -8.796875 | 18.671875 | -110020.46875 | Off | -240547.8125 | Off\n",
      "2022-10-04 14:12:24 | -123.25 | -61.1328125 | -8.84375 | 18.765625 | -109707.96875 | Off | -240430.625 | Off\n",
      "2022-10-04 14:12:28 | -123.5703125 | -61.25 | -8.8828125 | 18.625 | -109415.0 | Off | -240332.96875 | Off\n",
      "2022-10-04 14:12:32 | -123.515625 | -61.1875 | -8.953125 | 18.703125 | -109571.25 | Off | -240157.1875 | Off\n",
      "2022-10-04 14:12:36 | -123.6328125 | -61.296875 | -9.03125 | 18.6484375 | -109297.8125 | Off | -239961.875 | Off\n",
      "2022-10-04 14:12:40 | -123.53125 | -61.4453125 | -9.0703125 | 18.6484375 | -108926.71875 | Off | -239864.21875 | Off\n",
      "2022-10-04 14:12:44 | -123.6328125 | -61.5 | -9.1953125 | 18.703125 | -108790.0 | Off | -239551.71875 | Off\n",
      "2022-10-04 14:12:48 | -123.765625 | -61.609375 | -9.125 | 18.5625 | -108516.5625 | Off | -239727.5 | Off\n",
      "2022-10-04 14:12:52 | -123.8203125 | -61.546875 | -9.2734375 | 18.6484375 | -108672.8125 | Off | -239356.40625 | Off\n",
      "2022-10-04 14:12:56 | -123.875 | -61.625 | -9.3359375 | 18.6484375 | -108477.5 | Off | -239200.15625 | Off\n",
      "2022-10-04 14:13:00 | -123.8984375 | -61.640625 | -9.3125 | 18.609375 | -108438.4375 | Off | -239258.75 | Off\n",
      "2022-10-04 14:13:04 | -123.9140625 | -61.6484375 | -9.3984375 | 18.65625 | -108418.90625 | Off | -239043.90625 | Off\n",
      "2022-10-04 14:13:08 | -123.953125 | -61.7578125 | -9.4921875 | 18.65625 | -108145.46875 | Off | -238809.53125 | Off\n",
      "2022-10-04 14:13:12 | -124.0078125 | -61.875 | -9.53125 | 18.703125 | -107852.5 | Off | -238711.875 | Off\n",
      "2022-10-04 14:13:16 | -124.203125 | -62.0234375 | -9.609375 | 18.6796875 | -107481.40625 | Off | -238516.5625 | Off\n"
     ]
    }
   ],
   "source": [
    "print_log=[[\"Time\" ,\"Coldhead\", \"Heat Exchanger Front\", \"Heat Exchanger Back\", \"Chamber\", \"PID1 Output\", \"Heater17 Status\", \"PID2 Output\", \"Heater18 Status\"]]\n",
    "while True:\n",
    "    now = time.time()\n",
    "    clear_output(wait=True)\n",
    "    if os.stat(data_f_name).st_size>= 4194304:\n",
    "            data_f_name=ROOT_DIR+'/Logs/Temp log {}.csv'.format(dt.now().strftime('%m-%d-%Y, %H-%M'))\n",
    "            updated=True\n",
    "    temp_coldhead=ColdHead.temperature\n",
    "    temp_HeatExF=HeatExF.temperature\n",
    "    temp_HeatExB=HeatExB.temperature\n",
    "    temp_chamber=Chamber.temperature\n",
    "    controllerF.update(temp_HeatExF) # compute manipulated variable\n",
    "    controllerB.update(temp_HeatExB)\n",
    "    MV1 = controllerF.output # apply\n",
    "    MV2 = controllerB.output\n",
    "    if MV1 > 0:\n",
    "        HeaterF.value = True\n",
    "        HeatF_on=True\n",
    "    else:\n",
    "        HeaterF.value = False\n",
    "        HeatF_on=False\n",
    "    if MV2 > 0:\n",
    "        HeaterB.value = True\n",
    "        HeatB_on = True\n",
    "    else:\n",
    "        HeaterB.value = False\n",
    "        HeatB_on = False\n",
    "    #I really feel like there is a better way to do the following but I don't know what that would be \n",
    "    if updated:\n",
    "        if HeatF_on and HeatB_on:\n",
    "            log_temps(data_f_name,data_header,[0,0,0,0,0,0,0,0,0],True)\n",
    "            log_temps(data_f_name,data_header,[dt.now().strftime('%Y-%m-%d %H:%M:%S'), temp_coldhead, temp_HeatExF, temp_HeatExB, temp_chamber, MV1, 'On', MV2, 'On'],False)   #push the temperature readings to the log file\n",
    "            updated=False\n",
    "        elif HeatF_on and not HeatB_on:\n",
    "            log_temps(data_f_name,data_header,[0,0,0,0,0,0,0,0,0],True)\n",
    "            log_temps(data_f_name,data_header,[dt.now().strftime('%Y-%m-%d %H:%M:%S'), temp_coldhead, temp_HeatExF, temp_HeatExB, temp_chamber, MV1, 'On', MV2, 'Off'],False)   #push the temperature readings to the log file\n",
    "            updated=False\n",
    "        elif not HeatF_on and HeatB_on:\n",
    "            log_temps(data_f_name,data_header,[0,0,0,0,0,0,0,0,0],True)\n",
    "            log_temps(data_f_name,data_header,[dt.now().strftime('%Y-%m-%d %H:%M:%S'), temp_coldhead, temp_HeatExF, temp_HeatExB, temp_chamber, MV1, 'Off', MV2, 'On'],False)   #push the temperature readings to the log file\n",
    "            updated=False\n",
    "        else:\n",
    "            log_temps(data_f_name,data_header,[0,0,0,0,0,0,0,0],True)\n",
    "            log_temps(data_f_name,data_header,[dt.now().strftime('%Y-%m-%d %H:%M:%S'), temp_coldhead, temp_HeatExF, temp_HeatExB, temp_chamber, MV1, 'Off', MV2, 'Off'],False)\n",
    "            updated=False\n",
    "    else:\n",
    "        if HeatF_on and HeatB_on:\n",
    "            log_temps(data_f_name,data_header,[dt.now().strftime('%Y-%m-%d %H:%M:%S'), temp_coldhead, temp_HeatExF, temp_HeatExB, temp_chamber, MV1, 'On', MV2, 'On'],False) #push the temperature readings to the log file\n",
    "        elif HeatF_on and not HeatB_on:\n",
    "            log_temps(data_f_name,data_header,[dt.now().strftime('%Y-%m-%d %H:%M:%S'), temp_coldhead, temp_HeatExF, temp_HeatExB, temp_chamber, MV1, 'On', MV2, 'Off'],False)\n",
    "        elif not HeatF_on and HeatB_on:\n",
    "            log_temps(data_f_name,data_header,[dt.now().strftime('%Y-%m-%d %H:%M:%S'), temp_coldhead, temp_HeatExF, temp_HeatExB, temp_chamber, MV1, 'Off', MV2, 'On'],False)\n",
    "        else:\n",
    "            log_temps(data_f_name,data_header,[dt.now().strftime('%Y-%m-%d %H:%M:%S'), temp_coldhead, temp_HeatExF, temp_HeatExB, temp_chamber, MV1, 'Off', MV2, 'Off'],False)\n",
    "    if len(print_log)<=21:\n",
    "        if HeatF_on and HeatB_on:\n",
    "            print_log.append([dt.now().strftime('%Y-%m-%d %H:%M:%S'), temp_coldhead, temp_HeatExF, temp_HeatExB, temp_chamber, MV1, \"On\", MV2, 'On'])\n",
    "        elif HeatF_on and not HeatB_on:\n",
    "            print_log.append([dt.now().strftime('%Y-%m-%d %H:%M:%S'), temp_coldhead, temp_HeatExF, temp_HeatExB, temp_chamber, MV1, \"On\", MV2, 'Off'])\n",
    "        elif not HeatF_on and HeatB_on:\n",
    "            print_log.append([dt.now().strftime('%Y-%m-%d %H:%M:%S'), temp_coldhead, temp_HeatExF, temp_HeatExB, temp_chamber, MV1, \"Off\", MV2, 'On'])\n",
    "        else:\n",
    "            print_log.append([dt.now().strftime('%Y-%m-%d %H:%M:%S'), temp_coldhead, temp_HeatExF, temp_HeatExB, temp_chamber, MV1, \"Off\", MV2, 'Off'])\n",
    "    else:\n",
    "        print_log.pop(1)\n",
    "        if HeatF_on and HeatB_on:\n",
    "            print_log.append([dt.now().strftime('%Y-%m-%d %H:%M:%S'), temp_coldhead, temp_HeatExF, temp_HeatExB, temp_chamber, MV1, \"On\", MV2, 'On'])\n",
    "        elif HeatF_on and not HeatB_on:\n",
    "            print_log.append([dt.now().strftime('%Y-%m-%d %H:%M:%S'), temp_coldhead, temp_HeatExF, temp_HeatExB, temp_chamber, MV1, \"On\", MV2, 'Off'])\n",
    "        elif not HeatF_on and HeatB_on:\n",
    "            print_log.append([dt.now().strftime('%Y-%m-%d %H:%M:%S'), temp_coldhead, temp_HeatExF, temp_HeatExB, temp_chamber, MV1, \"Off\", MV2, 'On'])\n",
    "        else:\n",
    "            print_log.append([dt.now().strftime('%Y-%m-%d %H:%M:%S'), temp_coldhead, temp_HeatExF, temp_HeatExB, temp_chamber, MV1, \"Off\", MV2, 'Off'])\n",
    "    for line in print_log:\n",
    "        print(line[0],line[1],line[2],line[3],line[4],line[5],line[6],line[7],line[8],sep=\" | \")\n",
    "    coldhead_temps = np.append(coldhead_temps, temp_coldhead)\n",
    "    HeatExF_temps = np.append(HeatExF_temps, temp_HeatExF)\n",
    "    HeatExB_temps = np.append(HeatExB_temps, temp_HeatExB)\n",
    "    chamber_temps = np.append(chamber_temps, temp_chamber)\n",
    "    time_stamps.append(dt.now().strftime('%H:%M:%S'))\n",
    "    coldhead_temps = coldhead_temps[1: plot_window + 1]\n",
    "    HeatExF_temps = HeatExF_temps[1:plot_window+1]\n",
    "    HeatExB_temps = HeatExB_temps[1:plot_window+1]\n",
    "    chamber_temps = chamber_temps[1:plot_window+1]\n",
    "    time_stamps = time_stamps[1: plot_window + 1]\n",
    "    chline.set_ydata(coldhead_temps)\n",
    "    chline.set_xdata(time_stamps)\n",
    "    hexfline.set_ydata(HeatExF_temps)\n",
    "    hexfline.set_xdata(time_stamps)\n",
    "    hexbline.set_ydata(HeatExB_temps)\n",
    "    hexbline.set_xdata(time_stamps)\n",
    "    chamberline.set_ydata(chamber_temps)\n",
    "    chamberline.set_xdata(time_stamps)\n",
    "    ax.relim()\n",
    "    #ax.set_ylim(0,24)\n",
    "    ax.autoscale_view()\n",
    "    ax.set_xticks(time_stamps[::100])\n",
    "    ax.set_xticklabels(time_stamps[::100])\n",
    "    fig.canvas.draw()\n",
    "    fig.canvas.flush_events()\n",
    "    elapsed = time.time() - now  # how long was it running?\n",
    "    time.sleep(4.-elapsed)"
   ]
  },
  {
   "cell_type": "code",
   "execution_count": null,
   "id": "1d6bcd14-2a89-47a2-b664-096cd0b3d42d",
   "metadata": {},
   "outputs": [],
   "source": []
  }
 ],
 "metadata": {
  "kernelspec": {
   "display_name": "Python 3 (ipykernel)",
   "language": "python",
   "name": "python3"
  },
  "language_info": {
   "codemirror_mode": {
    "name": "ipython",
    "version": 3
   },
   "file_extension": ".py",
   "mimetype": "text/x-python",
   "name": "python",
   "nbconvert_exporter": "python",
   "pygments_lexer": "ipython3",
   "version": "3.9.2"
  }
 },
 "nbformat": 4,
 "nbformat_minor": 5
}
