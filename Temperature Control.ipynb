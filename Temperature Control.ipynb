{
 "cells": [
  {
   "cell_type": "markdown",
   "id": "84fc8f5f-63ab-4487-9dea-447928269b09",
   "metadata": {
    "tags": []
   },
   "source": [
    "# Temperature Control"
   ]
  },
  {
   "cell_type": "markdown",
   "id": "c147c2ec-7f26-4065-bc8f-e21c9dbc100d",
   "metadata": {},
   "source": [
    "Import necessary packages"
   ]
  },
  {
   "cell_type": "code",
   "execution_count": 1,
   "id": "b34fbf81-82be-45f4-a710-344211c44962",
   "metadata": {},
   "outputs": [
    {
     "ename": "ModuleNotFoundError",
     "evalue": "No module named 'board'",
     "output_type": "error",
     "traceback": [
      "\u001b[1;31m---------------------------------------------------------------------------\u001b[0m",
      "\u001b[1;31mModuleNotFoundError\u001b[0m                       Traceback (most recent call last)",
      "\u001b[1;32m~\\AppData\\Local\\Temp\\ipykernel_17012\\8985953.py\u001b[0m in \u001b[0;36m<cell line: 2>\u001b[1;34m()\u001b[0m\n\u001b[0;32m      1\u001b[0m \u001b[1;32mfrom\u001b[0m \u001b[0mdistutils\u001b[0m\u001b[1;33m.\u001b[0m\u001b[0mlog\u001b[0m \u001b[1;32mimport\u001b[0m \u001b[0merror\u001b[0m\u001b[1;33m\u001b[0m\u001b[1;33m\u001b[0m\u001b[0m\n\u001b[1;32m----> 2\u001b[1;33m \u001b[1;32mimport\u001b[0m \u001b[0mboard\u001b[0m\u001b[1;33m\u001b[0m\u001b[1;33m\u001b[0m\u001b[0m\n\u001b[0m\u001b[0;32m      3\u001b[0m \u001b[1;32mimport\u001b[0m \u001b[0mdigitalio\u001b[0m\u001b[1;33m\u001b[0m\u001b[1;33m\u001b[0m\u001b[0m\n\u001b[0;32m      4\u001b[0m \u001b[1;32mimport\u001b[0m \u001b[0madafruit_max31856\u001b[0m\u001b[1;33m\u001b[0m\u001b[1;33m\u001b[0m\u001b[0m\n\u001b[0;32m      5\u001b[0m \u001b[1;32mimport\u001b[0m \u001b[0mtime\u001b[0m\u001b[1;33m\u001b[0m\u001b[1;33m\u001b[0m\u001b[0m\n",
      "\u001b[1;31mModuleNotFoundError\u001b[0m: No module named 'board'"
     ]
    }
   ],
   "source": [
    "from distutils.log import error\n",
    "import board\n",
    "import digitalio\n",
    "import adafruit_max31856\n",
    "import time\n",
    "from datetime import datetime as dt\n",
    "import csv\n",
    "import matplotlib\n",
    "matplotlib.use(\"tkAgg\")\n",
    "import matplotlib.pyplot as plt\n",
    "import numpy as np\n",
    "import keyboard\n",
    "from tclab import clock, setup, Historian, Plotter\n",
    "import PID\n",
    "import os"
   ]
  },
  {
   "cell_type": "markdown",
   "id": "6942d2db-1793-416b-b11f-c9877d7374db",
   "metadata": {},
   "source": [
    "Get current directory so we can save log files in a separate folder."
   ]
  },
  {
   "cell_type": "code",
   "execution_count": 2,
   "id": "41b1778c-526a-448e-b0f3-7078425bd163",
   "metadata": {},
   "outputs": [
    {
     "ename": "NameError",
     "evalue": "name 'os' is not defined",
     "output_type": "error",
     "traceback": [
      "\u001b[1;31m---------------------------------------------------------------------------\u001b[0m",
      "\u001b[1;31mNameError\u001b[0m                                 Traceback (most recent call last)",
      "\u001b[1;32m~\\AppData\\Local\\Temp\\ipykernel_17012\\2236458811.py\u001b[0m in \u001b[0;36m<cell line: 1>\u001b[1;34m()\u001b[0m\n\u001b[1;32m----> 1\u001b[1;33m \u001b[0mROOT_DIR\u001b[0m \u001b[1;33m=\u001b[0m \u001b[0mos\u001b[0m\u001b[1;33m.\u001b[0m\u001b[0mpath\u001b[0m\u001b[1;33m.\u001b[0m\u001b[0mrealpath\u001b[0m\u001b[1;33m(\u001b[0m\u001b[0mos\u001b[0m\u001b[1;33m.\u001b[0m\u001b[0mpath\u001b[0m\u001b[1;33m.\u001b[0m\u001b[0mjoin\u001b[0m\u001b[1;33m(\u001b[0m\u001b[0mos\u001b[0m\u001b[1;33m.\u001b[0m\u001b[0mpath\u001b[0m\u001b[1;33m.\u001b[0m\u001b[0mdirname\u001b[0m\u001b[1;33m(\u001b[0m\u001b[0m__file__\u001b[0m\u001b[1;33m)\u001b[0m\u001b[1;33m)\u001b[0m\u001b[1;33m)\u001b[0m\u001b[1;33m\u001b[0m\u001b[1;33m\u001b[0m\u001b[0m\n\u001b[0m",
      "\u001b[1;31mNameError\u001b[0m: name 'os' is not defined"
     ]
    }
   ],
   "source": [
    "ROOT_DIR = os.path.realpath(os.path.join(os.path.dirname(\"Temperature Control.ipynb\")))"
   ]
  },
  {
   "cell_type": "markdown",
   "id": "bce952a4-33c6-42d9-acbb-ea5c745e3cbc",
   "metadata": {},
   "source": [
    "Define the temperature and error logging functions that output to csv and text files respectivly."
   ]
  },
  {
   "cell_type": "code",
   "execution_count": null,
   "id": "665f7672-f582-49b3-9411-6913c87d9e06",
   "metadata": {},
   "outputs": [],
   "source": [
    "def log_error(f_name,error,time,first):\n",
    "    if first==True:\n",
    "        with open(os.path.join(ROOT_DIR, 'Logs', f_name),'w',encoding='UTF8',newline='') as err_log_file:\n",
    "            err_log_file.write('')\n",
    "    else:\n",
    "        with open(os.path.join(ROOT_DIR, 'Logs', f_name),'a',encoding='UTF8',newline='') as err_log_file:\n",
    "            err_log_file.write(\"\\n\".join('{} at t= {}'.format(error,str(time))))\n",
    "\n",
    "def log_temps(f_name,header,data,first):\n",
    "    if first==True:\n",
    "        with open(os.path.join(ROOT_DIR, 'Logs', f_name),'w',encoding='UTF8', newline='') as temp_log_file:\n",
    "            temp_log_w=csv.writer(temp_log_file)    #temperature log file\n",
    "            temp_log_w.writerow(header)\n",
    "    else:\n",
    "        with open(os.path.join(ROOT_DIR, 'Logs', f_name),'a',encoding='UTF8', newline='') as temp_log_file:\n",
    "            temp_log_w=csv.writer(temp_log_file)    #temperature log file\n",
    "            temp_log_w.writerow(data)"
   ]
  },
  {
   "cell_type": "markdown",
   "id": "7f7cdbf9-62ac-4829-af3e-f0acec037e88",
   "metadata": {},
   "source": [
    "Create the temperature and error log files."
   ]
  },
  {
   "cell_type": "code",
   "execution_count": null,
   "id": "bda16be6-6ee5-4131-85f9-05d539231af3",
   "metadata": {},
   "outputs": [],
   "source": [
    "data_f_name=ROOT_DIR+'/Logs/Temp log {}.csv'.format(dt.now().strftime('%m-%d-%Y, %H-%M'))\n",
    "data_header=['Rt', 'temp_hex', 'temp_ch' , 'temp_chamber', 'MV','Heater On']\n",
    "log_temps(data_f_name,data_header,[0,0,0,0,0,0],True)"
   ]
  },
  {
   "cell_type": "markdown",
   "id": "e3e7605b-a7bf-4320-b025-b98013277ed0",
   "metadata": {},
   "source": [
    "Define the coldhead, heat exchanger, chamber, and heater entities that will be controled."
   ]
  },
  {
   "cell_type": "code",
   "execution_count": null,
   "id": "4c1f3a66-43b9-4cf0-be97-9c952b74b6f1",
   "metadata": {},
   "outputs": [],
   "source": [
    "# Create sensor object, communicating over the board's default SPI bus\n",
    "spi = board.SPI()\n",
    "\n",
    "# allocate a CS pin and set the direction\n",
    "cs13 = digitalio.DigitalInOut(board.D13)\n",
    "cs13.direction = digitalio.Direction.OUTPUT\n",
    "cs25 = digitalio.DigitalInOut(board.D25)\n",
    "cs25.direction = digitalio.Direction.OUTPUT\n",
    "cs26 = digitalio.DigitalInOut(board.D26)\n",
    "cs26.direction = digitalio.Direction.OUTPUT\n",
    "Heater = digitalio.DigitalInOut(board.D16)\n",
    "Heater.direction= digitalio.Direction.OUTPUT\n",
    "\n",
    "# create a thermocouple object with the above\n",
    "HeatEx = adafruit_max31856.MAX31856(spi, cs26,thermocouple_type=adafruit_max31856.ThermocoupleType.T)\n",
    "ColdHead = adafruit_max31856.MAX31856(spi, cs13,thermocouple_type=adafruit_max31856.ThermocoupleType.T)\n",
    "Chamber = adafruit_max31856.MAX31856(spi, cs25,thermocouple_type=adafruit_max31856.ThermocoupleType.T)\n"
   ]
  },
  {
   "cell_type": "markdown",
   "id": "7aab6ca7-71ff-429b-addc-0fcbb3b98459",
   "metadata": {},
   "source": [
    "Initiate the PID temperature control."
   ]
  },
  {
   "cell_type": "code",
   "execution_count": null,
   "id": "8fa19536-7da1-4822-b000-a91f8dd8f74d",
   "metadata": {},
   "outputs": [],
   "source": [
    "Heater.value = True\n",
    "Heat_on=True\n",
    "targetT = -186    #initial inputs for PID control\n",
    "P = 10\n",
    "I = 1\n",
    "D = 1\n",
    "\n",
    "controller = PID.PID(P, I, D)        # create pid control\n",
    "controller.SetPoint = targetT              # initialize\n",
    "controller.setSampleTime(1)"
   ]
  },
  {
   "cell_type": "markdown",
   "id": "18e40c63-990d-49d7-9c2b-2c704b5e73cc",
   "metadata": {},
   "source": [
    "Read the coldhead, heat exhanger and chamber temperatures then log them."
   ]
  },
  {
   "cell_type": "code",
   "execution_count": null,
   "id": "594198ff-e4d3-4104-a85f-43f99e78b5ef",
   "metadata": {},
   "outputs": [],
   "source": [
    "temp_coldhead=ColdHead.temperature\n",
    "temp_heatex=HeatEx.temperature\n",
    "temp_chamber=Chamber.temperature\n",
    "\n",
    "log_temps(data_f_name,data_header,[dt.now().strftime('%Y-%m-%d %H:%M:%S'), temp_heatex, temp_coldhead, temp_chamber, controller.output,\"False\"],False)"
   ]
  },
  {
   "cell_type": "markdown",
   "id": "ec9218b9-d6ea-4b55-83ab-b525d36fd59b",
   "metadata": {},
   "source": [
    "Create the temperature plot"
   ]
  },
  {
   "cell_type": "code",
   "execution_count": null,
   "id": "5e2818f1-bc6f-4f49-a748-0f3deeeab8db",
   "metadata": {},
   "outputs": [],
   "source": [
    "plot_window = 10\n",
    "coldhead_temps = np.array(np.zeros([plot_window]))\n",
    "heatex_temps = np.array(np.zeros([plot_window]))\n",
    "chamber_temps = np.array(np.zeros([plot_window]))\n",
    "time_stamps = []\n",
    "#np.array(np.zeros([plot_window]))\n",
    "for i in range(plot_window):\n",
    "    time_stamps.append(dt.now().strftime('%H:%M:%S'))\n",
    "    #x_var.append(time.asctime(time.time()))\n",
    "plt.ion()\n",
    "fig, ax = plt.subplots()\n",
    "chline,  = ax.plot(time_stamps, coldhead_temps, label='Cold Head')\n",
    "hexline, = ax.plot(time_stamps, heatex_temps, label='Heat Exchanger')\n",
    "chamberline, =ax.plot(time_stamps, chamber_temps, label='Chamber')\n",
    "plot_window = 1000\n",
    "ax.locator_params(tight=True, nbins=4)\n",
    "ax.legend()\n",
    "ax.set_xlabel('Time (Hour:Min)')\n",
    "ax.set_ylabel('Temperature (Celsius)')"
   ]
  },
  {
   "cell_type": "markdown",
   "id": "2886099d-b90e-496a-b1f7-25ab014ce24e",
   "metadata": {},
   "source": [
    "Loop that reads the temperatures of the coldhead, heat exhanger and chamber logs them, updates the PID control and runs the heater, then plots the tmperatures."
   ]
  },
  {
   "cell_type": "code",
   "execution_count": null,
   "id": "a43cca4a-cc80-4456-bf04-7a6315bf3ab0",
   "metadata": {},
   "outputs": [],
   "source": [
    "while True:\n",
    "    temp_coldhead=ColdHead.temperature\n",
    "    temp_heatex=HeatEx.temperature\n",
    "    temp_chamber=Chamber.temperature\n",
    "    controller.update(temp_heatex) # compute manipulated variable\n",
    "    MV = controller.output # apply\n",
    "    if MV > 0:\n",
    "       Heater.value = False\n",
    "       Heat_on=True\n",
    "       # write to event log that heater turned on/off\n",
    "    else:\n",
    "       Heater.value = True\n",
    "       Heat_on=False\n",
    "    if Heat_on:\n",
    "        log_temps(data_f_name,data_header,[dt.now().strftime('%Y-%m-%d %H:%M:%S'), temp_heatex, temp_coldhead, temp_chamber, MV,'On'],False)   #push the temperature readings to the log file\n",
    "        print(dt.now().strftime('%Y-%m-%d %H:%M:%S'), temp_heatex, temp_coldhead, temp_chamber, MV,\"On\") #print out the temperature readings\n",
    "    else:\n",
    "        log_temps(data_f_name,data_header,[dt.now().strftime('%Y-%m-%d %H:%M:%S'), temp_heatex, temp_coldhead, temp_chamber, MV,'Off'],False)\n",
    "        print(dt.now().strftime('%Y-%m-%d %H:%M:%S'), temp_heatex, temp_coldhead, temp_chamber, MV,\"Off\") #print out the temperature readings\n",
    "    coldhead_temps = np.append(coldhead_temps, temp_coldhead)\n",
    "    heatex_temps = np.append(heatex_temps, temp_heatex)\n",
    "    chamber_temps = np.append(chamber_temps, temp_chamber)\n",
    "    time_stamps.append(dt.now().strftime('%H:%M:%S'))\n",
    "    coldhead_temps = coldhead_temps[1: plot_window + 1]\n",
    "    heatex_temps = heatex_temps[1:plot_window+1]\n",
    "    chamber_temps = chamber_temps[1:plot_window+1]\n",
    "    time_stamps = time_stamps[1: plot_window + 1]\n",
    "    chline.set_ydata(coldhead_temps)\n",
    "    chline.set_xdata(time_stamps)\n",
    "    hexline.set_ydata(heatex_temps)\n",
    "    hexline.set_xdata(time_stamps)\n",
    "    chamberline.set_ydata(chamber_temps)\n",
    "    chamberline.set_xdata(time_stamps)\n",
    "    ax.relim()\n",
    "    #ax.set_ylim(0,24)\n",
    "    ax.autoscale_view()\n",
    "    ax.set_xticks(time_stamps[::100])\n",
    "    ax.set_xticklabels(time_stamps[::100])\n",
    "    fig.canvas.draw()\n",
    "    fig.canvas.flush_events()\n",
    "    time.sleep(1)"
   ]
  }
 ],
 "metadata": {
  "kernelspec": {
   "display_name": "Python 3 (ipykernel)",
   "language": "python",
   "name": "python3"
  },
  "language_info": {
   "codemirror_mode": {
    "name": "ipython",
    "version": 3
   },
   "file_extension": ".py",
   "mimetype": "text/x-python",
   "name": "python",
   "nbconvert_exporter": "python",
   "pygments_lexer": "ipython3",
   "version": "3.9.13"
  }
 },
 "nbformat": 4,
 "nbformat_minor": 5
}
