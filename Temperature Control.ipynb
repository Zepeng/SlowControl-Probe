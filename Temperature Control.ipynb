{
 "cells": [
  {
   "cell_type": "markdown",
   "id": "84fc8f5f-63ab-4487-9dea-447928269b09",
   "metadata": {
    "tags": []
   },
   "source": [
    "# Temperature Control"
   ]
  },
  {
   "cell_type": "markdown",
   "id": "c147c2ec-7f26-4065-bc8f-e21c9dbc100d",
   "metadata": {},
   "source": [
    "Import necessary packages"
   ]
  },
  {
   "cell_type": "code",
   "execution_count": 1,
   "id": "b34fbf81-82be-45f4-a710-344211c44962",
   "metadata": {},
   "outputs": [],
   "source": [
    "from distutils.log import error\n",
    "import board\n",
    "import digitalio\n",
    "import adafruit_max31856\n",
    "import time\n",
    "from datetime import datetime as dt\n",
    "import csv\n",
    "import matplotlib\n",
    "matplotlib.use(\"tkAgg\")\n",
    "import matplotlib.pyplot as plt\n",
    "import numpy as np\n",
    "import keyboard\n",
    "from tclab import clock, setup, Historian, Plotter\n",
    "import PID\n",
    "import os\n",
    "import pandas\n",
    "from IPython.display import clear_output"
   ]
  },
  {
   "cell_type": "markdown",
   "id": "6942d2db-1793-416b-b11f-c9877d7374db",
   "metadata": {},
   "source": [
    "Get current directory so we can save log files in a separate folder."
   ]
  },
  {
   "cell_type": "code",
   "execution_count": 2,
   "id": "41b1778c-526a-448e-b0f3-7078425bd163",
   "metadata": {},
   "outputs": [],
   "source": [
    "ROOT_DIR = os.path.realpath(os.path.join(os.path.dirname(\"Temperature Control.ipynb\")))"
   ]
  },
  {
   "cell_type": "markdown",
   "id": "bce952a4-33c6-42d9-acbb-ea5c745e3cbc",
   "metadata": {},
   "source": [
    "Define the temperature and error logging functions that output to csv and text files respectivly."
   ]
  },
  {
   "cell_type": "code",
   "execution_count": 3,
   "id": "665f7672-f582-49b3-9411-6913c87d9e06",
   "metadata": {},
   "outputs": [],
   "source": [
    "def log_error(f_name,error,time,first):\n",
    "    if first==True:\n",
    "        with open(os.path.join(ROOT_DIR, 'Logs', f_name),'w',encoding='UTF8',newline='') as err_log_file:\n",
    "            err_log_file.write('')\n",
    "    else:\n",
    "        with open(os.path.join(ROOT_DIR, 'Logs', f_name),'a',encoding='UTF8',newline='') as err_log_file:\n",
    "            err_log_file.write(\"\\n\".join('{} at t= {}'.format(error,str(time))))\n",
    "\n",
    "def log_temps(f_name,header,data,first):\n",
    "    if first==True:\n",
    "        with open(os.path.join(ROOT_DIR, 'Logs', f_name),'w',encoding='UTF8', newline='') as temp_log_file:\n",
    "            temp_log_w=csv.writer(temp_log_file)    #temperature log file\n",
    "            temp_log_w.writerow(header)\n",
    "    else:\n",
    "        with open(os.path.join(ROOT_DIR, 'Logs', f_name),'a',encoding='UTF8', newline='') as temp_log_file:\n",
    "            temp_log_w=csv.writer(temp_log_file)    #temperature log file\n",
    "            temp_log_w.writerow(data)"
   ]
  },
  {
   "cell_type": "markdown",
   "id": "7f7cdbf9-62ac-4829-af3e-f0acec037e88",
   "metadata": {},
   "source": [
    "Create the temperature and error log files."
   ]
  },
  {
   "cell_type": "code",
   "execution_count": 4,
   "id": "bda16be6-6ee5-4131-85f9-05d539231af3",
   "metadata": {},
   "outputs": [],
   "source": [
    "data_f_name=ROOT_DIR+'/Logs/Temp log {}.csv'.format(dt.now().strftime('%m-%d-%Y, %H-%M'))\n",
    "data_header=['Rt', 'temp_ch', 'temp_hex_f', 'temp_hex_b', 'temp_chamber', 'MV1','Heater17 On', 'MV2','Heater18 On']\n",
    "log_temps(data_f_name,data_header,[0,0,0,0,0,0,0,0],True)\n",
    "updated=False"
   ]
  },
  {
   "cell_type": "markdown",
   "id": "e3e7605b-a7bf-4320-b025-b98013277ed0",
   "metadata": {},
   "source": [
    "Define the coldhead, heat exchanger, chamber, and heater entities that will be controled."
   ]
  },
  {
   "cell_type": "code",
   "execution_count": 5,
   "id": "4c1f3a66-43b9-4cf0-be97-9c952b74b6f1",
   "metadata": {},
   "outputs": [],
   "source": [
    "# Create sensor object, communicating over the board's default SPI bus\n",
    "spi = board.SPI()\n",
    "\n",
    "# allocate a CS pin and set the direction\n",
    "cs13 = digitalio.DigitalInOut(board.D13)\n",
    "cs13.direction = digitalio.Direction.OUTPUT\n",
    "cs16 = digitalio.DigitalInOut(board.D16)\n",
    "cs16.direction = digitalio.Direction.OUTPUT\n",
    "cs25 = digitalio.DigitalInOut(board.D25)\n",
    "cs25.direction = digitalio.Direction.OUTPUT\n",
    "cs26 = digitalio.DigitalInOut(board.D26)\n",
    "cs26.direction = digitalio.Direction.OUTPUT\n",
    "HeaterF = digitalio.DigitalInOut(board.D17)\n",
    "HeaterF.direction= digitalio.Direction.OUTPUT\n",
    "HeaterB = digitalio.DigitalInOut(board.D18)\n",
    "HeaterB.direction = digitalio.Direction.OUTPUT\n",
    "\n",
    "\n",
    "# create a thermocouple object with the above\n",
    "ColdHead = adafruit_max31856.MAX31856(spi, cs13,thermocouple_type=adafruit_max31856.ThermocoupleType.T)\n",
    "HeatExF = adafruit_max31856.MAX31856(spi, cs26,thermocouple_type=adafruit_max31856.ThermocoupleType.T)\n",
    "HeatExB = adafruit_max31856.MAX31856(spi, cs25,thermocouple_type=adafruit_max31856.ThermocoupleType.T)\n",
    "Chamber = adafruit_max31856.MAX31856(spi, cs16,thermocouple_type=adafruit_max31856.ThermocoupleType.T)\n"
   ]
  },
  {
   "cell_type": "markdown",
   "id": "34f0ff7c-f1ba-44e7-87a3-44e067d7a31f",
   "metadata": {},
   "source": [
    "Initiate PID controls for Front Heat Exchanger"
   ]
  },
  {
   "cell_type": "code",
   "execution_count": 6,
   "id": "8fa19536-7da1-4822-b000-a91f8dd8f74d",
   "metadata": {},
   "outputs": [],
   "source": [
    "HeaterF.value = False\n",
    "HeatF_on=False\n",
    "targetT1 = -200   #initial inputs for PID control\n",
    "P1 = 0.7*0.6\n",
    "I1 = 0.7*1.2/58\n",
    "D1 = 3*0.7*58/40\n",
    "\n",
    "controllerF = PID.PID(P1, I1, D1)        # create pid control\n",
    "controllerF.SetPoint = targetT1             # initialize\n",
    "controllerF.setSampleTime(2)"
   ]
  },
  {
   "cell_type": "markdown",
   "id": "8cabaed0-b1dd-4f42-965d-edfed3511f64",
   "metadata": {},
   "source": [
    "Initiate PID controls for Back Heat Exchanger"
   ]
  },
  {
   "cell_type": "markdown",
   "id": "ea9ab58f-482b-407e-9bf2-8cf11eac894c",
   "metadata": {},
   "source": [
    "Pretty good\n",
    "P1 = 0.6\n",
    "I1 = 1*1.2/65\n",
    "D1 = 3*1*65/40"
   ]
  },
  {
   "cell_type": "code",
   "execution_count": 7,
   "id": "f6672264-614f-45dc-8c16-52b61645d981",
   "metadata": {},
   "outputs": [],
   "source": [
    "HeaterB.value = False \n",
    "HeatB_on = False\n",
    "targetT2 = -200\n",
    "P2 = 0.7*0.6\n",
    "I2 = 0.7*1.2/58\n",
    "D2 = 3*0.7*58/40\n",
    "\n",
    "controllerB = PID.PID(P2, I2, D2)\n",
    "controllerB.SetPoint = targetT2\n",
    "controllerB.setSampleTime(2)"
   ]
  },
  {
   "cell_type": "markdown",
   "id": "18e40c63-990d-49d7-9c2b-2c704b5e73cc",
   "metadata": {},
   "source": [
    "Read the coldhead, heat exhanger and chamber temperatures then log them."
   ]
  },
  {
   "cell_type": "code",
   "execution_count": 8,
   "id": "594198ff-e4d3-4104-a85f-43f99e78b5ef",
   "metadata": {},
   "outputs": [],
   "source": [
    "temp_coldhead=ColdHead.temperature\n",
    "temp_HeatExF=HeatExF.temperature\n",
    "temp_HeatExB=HeatExB.temperature\n",
    "temp_chamber=Chamber.temperature\n",
    "\n",
    "log_temps(data_f_name,data_header,[dt.now().strftime('%Y-%m-%d %H:%M:%S'), temp_coldhead, temp_HeatExF, temp_HeatExB, temp_chamber, controllerF.output,\"False\", controllerB.output, \"False\"],False)"
   ]
  },
  {
   "cell_type": "markdown",
   "id": "ec9218b9-d6ea-4b55-83ab-b525d36fd59b",
   "metadata": {},
   "source": [
    "Create the temperature plot"
   ]
  },
  {
   "cell_type": "code",
   "execution_count": 9,
   "id": "5e2818f1-bc6f-4f49-a748-0f3deeeab8db",
   "metadata": {},
   "outputs": [
    {
     "name": "stderr",
     "output_type": "stream",
     "text": [
      "/tmp/ipykernel_2951/3583554292.py:21: UserWarning: 'set_params()' not defined for locator of type <class 'matplotlib.category.StrCategoryLocator'>\n",
      "  ax.locator_params(tight=True, nbins=10)\n"
     ]
    },
    {
     "data": {
      "text/plain": [
       "Text(0, 0.5, 'Temperature (Celsius)')"
      ]
     },
     "execution_count": 9,
     "metadata": {},
     "output_type": "execute_result"
    }
   ],
   "source": [
    "plot_window = 1\n",
    "coldhead_temps = np.array(np.zeros([plot_window]))\n",
    "HeatExF_temps = np.array(np.zeros([plot_window]))\n",
    "HeatExB_temps = np.array(np.zeros([plot_window]))\n",
    "chamber_temps = np.array(np.zeros([plot_window]))\n",
    "coldhead_temps[0] = temp_coldhead # Sets the first value of each line\n",
    "HeatExF_temps[0] = temp_HeatExF\n",
    "HeatExB_temps[0] = temp_HeatExB\n",
    "chamber_temps[0] = temp_chamber\n",
    "time_stamps = []\n",
    "#np.array(np.zeros([plot_window]))\n",
    "for i in range(plot_window):\n",
    "    time_stamps.append(dt.now().strftime('%H:%M:%S'))\n",
    "    #x_var.append(time.asctime(time.time()))\n",
    "plt.ion()\n",
    "fig, ax = plt.subplots(figsize=(12,5))\n",
    "chline,  = ax.plot(time_stamps, coldhead_temps, label='Cold Head')\n",
    "hexfline, = ax.plot(time_stamps, HeatExF_temps, label='Heat Exchanger Front')\n",
    "hexbline, = ax.plot(time_stamps, HeatExB_temps, label='Heat Exchanger Back')\n",
    "chamberline, =ax.plot(time_stamps, chamber_temps, label='Chamber')\n",
    "ax.locator_params(tight=True, nbins=10)\n",
    "ax.legend()\n",
    "ax.set_xlabel('Time (Hour:Min)')\n",
    "ax.set_ylabel('Temperature (Celsius)')"
   ]
  },
  {
   "cell_type": "markdown",
   "id": "2886099d-b90e-496a-b1f7-25ab014ce24e",
   "metadata": {},
   "source": [
    "Loop that reads the temperatures of the coldhead, heat exhanger and chamber logs them, updates the PID control and runs the heater, then plots the tmperatures."
   ]
  },
  {
   "cell_type": "code",
   "execution_count": null,
   "id": "a43cca4a-cc80-4456-bf04-7a6315bf3ab0",
   "metadata": {
    "tags": []
   },
   "outputs": [
    {
     "name": "stdout",
     "output_type": "stream",
     "text": [
      "|    | Time                |   Coldhead |   Heat Exchanger Front |   Heat Exchanger Back |   Chamber |   PID1 Output | Heater17 Status   |   PID2 Output | Heater18 Status   |\n",
      "|---:|:--------------------|-----------:|-----------------------:|----------------------:|----------:|--------------:|:------------------|--------------:|:------------------|\n",
      "|  0 | 2022-10-13 15:37:21 |   -166.609 |               -141.82  |              -121.18  |  -15.1094 |      -24.7251 | Off               |      -33.3644 | Off               |\n",
      "|  1 | 2022-10-13 15:37:23 |   -166.492 |               -141.641 |              -121.125 |  -15.1797 |      -24.7251 | Off               |      -33.3644 | Off               |\n",
      "|  2 | 2022-10-13 15:37:25 |   -166.633 |               -141.844 |              -121.164 |  -15.0703 |      -24.6975 | Off               |      -33.4126 | Off               |\n",
      "|  3 | 2022-10-13 15:37:27 |   -166.586 |               -141.859 |              -121.18  |  -15.0859 |      -24.6849 | Off               |      -33.3704 | Off               |\n",
      "|  4 | 2022-10-13 15:37:29 |   -166.539 |               -141.898 |              -121.234 |  -15.1484 |      -24.6849 | Off               |      -33.3704 | Off               |\n",
      "|  5 | 2022-10-13 15:37:31 |   -166.422 |               -141.781 |              -121.141 |  -15.1484 |      -24.8011 | Off               |      -33.4404 | Off               |\n",
      "|  6 | 2022-10-13 15:37:33 |   -166.469 |               -141.883 |              -121.141 |  -15.1094 |      -24.5446 | Off               |      -33.4106 | Off               |\n",
      "|  7 | 2022-10-13 15:37:35 |   -166.586 |               -141.859 |              -121.141 |  -15.1797 |      -24.7444 | Off               |      -33.4106 | Off               |\n",
      "|  8 | 2022-10-13 15:37:37 |   -166.711 |               -141.898 |              -121.164 |  -15.0859 |      -24.633  | Off               |      -33.3651 | Off               |\n",
      "|  9 | 2022-10-13 15:37:39 |   -166.539 |               -141.898 |              -121.164 |  -15.0234 |      -24.6923 | Off               |      -33.4007 | Off               |\n",
      "| 10 | 2022-10-13 15:37:41 |   -166.609 |               -141.898 |              -121.18  |  -15.1797 |      -24.6923 | Off               |      -33.3705 | Off               |\n",
      "| 11 | 2022-10-13 15:37:43 |   -166.633 |               -141.961 |              -121.125 |  -15.1094 |      -24.6923 | Off               |      -33.3705 | Off               |\n",
      "| 12 | 2022-10-13 15:37:45 |   -166.539 |               -141.844 |              -121.141 |  -15.1016 |      -24.7569 | Off               |      -33.4403 | Off               |\n",
      "| 13 | 2022-10-13 15:37:47 |   -166.633 |               -141.938 |              -121.047 |  -15.1016 |      -24.7569 | Off               |      -33.4403 | Off               |\n",
      "| 14 | 2022-10-13 15:37:49 |   -166.734 |               -141.82  |              -121.219 |  -15.0625 |      -24.743  | Off               |      -33.3183 | Off               |\n",
      "| 15 | 2022-10-13 15:37:51 |   -166.758 |               -141.844 |              -121.203 |  -15.1484 |      -24.68   | Off               |      -33.4079 | Off               |\n",
      "| 16 | 2022-10-13 15:37:54 |   -166.586 |               -141.898 |              -121.203 |  -15.1094 |      -24.6386 | Off               |      -33.3843 | Off               |\n",
      "| 17 | 2022-10-13 15:37:56 |   -166.609 |               -141.859 |              -121.312 |  -15.1875 |      -24.6386 | Off               |      -33.3843 | Off               |\n",
      "| 18 | 2022-10-13 15:37:58 |   -166.516 |               -141.898 |              -121.203 |  -15.2266 |      -24.6923 | Off               |      -33.3843 | Off               |\n",
      "| 19 | 2022-10-13 15:38:00 |   -166.539 |               -141.922 |              -121.219 |  -15.1094 |      -24.6469 | Off               |      -33.3541 | Off               |\n",
      "| 20 | 2022-10-13 15:38:02 |   -166.539 |               -141.859 |              -121.234 |  -15.2031 |      -24.8038 | Off               |      -33.3475 | Off               |\n"
     ]
    }
   ],
   "source": [
    "print_log=[]\n",
    "print_head=[\"Time\" ,\"Coldhead\", \"Heat Exchanger Front\", \"Heat Exchanger Back\", \"Chamber\", \"PID1 Output\", \"Heater17 Status\", \"PID2 Output\", \"Heater18 Status\"]\n",
    "try:\n",
    "    while True:\n",
    "        now = time.time()\n",
    "        clear_output(wait=True)\n",
    "        if os.stat(data_f_name).st_size>= 4194304:\n",
    "                data_f_name=ROOT_DIR+'/Logs/Temp log {}.csv'.format(dt.now().strftime('%m-%d-%Y, %H-%M'))\n",
    "                updated=True\n",
    "        temp_coldhead=ColdHead.temperature\n",
    "        temp_HeatExF=HeatExF.temperature\n",
    "        temp_HeatExB=HeatExB.temperature\n",
    "        temp_chamber=Chamber.temperature\n",
    "        controllerF.update(temp_HeatExF) # compute manipulated variable\n",
    "        controllerB.update(temp_HeatExB)\n",
    "        MV1 = controllerF.output # apply\n",
    "        MV2 = controllerB.output\n",
    "        if MV1 > 0:\n",
    "            HeaterF.value = True\n",
    "            HeatF_on=True\n",
    "        else:\n",
    "            HeaterF.value = False\n",
    "            HeatF_on=False\n",
    "        if MV2 > 0:\n",
    "            HeaterB.value = True\n",
    "            HeatB_on = True\n",
    "        else:\n",
    "            HeaterB.value = False\n",
    "            HeatB_on = False\n",
    "        if HeatF_on:\n",
    "            HeatF_status = 'On'\n",
    "        else:\n",
    "            HeatF_status = 'Off'\n",
    "        if HeatB_on:\n",
    "            HeatB_status = 'On'\n",
    "        else:\n",
    "            HeatB_status = 'Off'\n",
    "        if updated:\n",
    "            log_temps(data_f_name,data_header,[0,0,0,0,0,0,0,0,0],True)\n",
    "            log_temps(data_f_name,data_header,[dt.now().strftime('%Y-%m-%d %H:%M:%S'), temp_coldhead, temp_HeatExF, temp_HeatExB, temp_chamber, MV1, HeatF_status , MV2, HeatB_status],False)\n",
    "            updated = False\n",
    "        else:\n",
    "            log_temps(data_f_name,data_header,[dt.now().strftime('%Y-%m-%d %H:%M:%S'), temp_coldhead, temp_HeatExF, temp_HeatExB, temp_chamber, MV1, HeatF_status , MV2, HeatB_status],False)            \n",
    "        if len(print_log)<=20:\n",
    "            print_log.append([dt.now().strftime('%Y-%m-%d %H:%M:%S'), temp_coldhead, temp_HeatExF, temp_HeatExB, temp_chamber, MV1, HeatF_status , MV2, HeatB_status])\n",
    "        else:\n",
    "            print_log.pop(0)\n",
    "            print_log.append([dt.now().strftime('%Y-%m-%d %H:%M:%S'), temp_coldhead, temp_HeatExF, temp_HeatExB, temp_chamber, MV1, HeatF_status, MV2, HeatB_status])\n",
    "        to_print=pandas.DataFrame(print_log,index=None, columns=print_head)\n",
    "        print(to_print.to_markdown())\n",
    "        elapsed = time.time() - now  # how long was it running?\n",
    "        #print(elapsed)\n",
    "        coldhead_temps = np.append(coldhead_temps, temp_coldhead)\n",
    "        HeatExF_temps = np.append(HeatExF_temps, temp_HeatExF)\n",
    "        HeatExB_temps = np.append(HeatExB_temps, temp_HeatExB)\n",
    "        chamber_temps = np.append(chamber_temps, temp_chamber)\n",
    "        time_stamps.append(dt.now().strftime('%H:%M:%S'))\n",
    "        #coldhead_temps = coldhead_temps[1: plot_window + 1]\n",
    "        #HeatExF_temps = HeatExF_temps[1:plot_window+1]\n",
    "        #HeatExB_temps = HeatExB_temps[1:plot_window+1]\n",
    "        #chamber_temps = chamber_temps[1:plot_window+1]\n",
    "        #time_stamps = time_stamps[1: plot_window + 1]\n",
    "        if len(coldhead_temps)<=300:\n",
    "            chline.set_ydata(coldhead_temps)\n",
    "            chline.set_xdata(time_stamps)\n",
    "            hexfline.set_ydata(HeatExF_temps)\n",
    "            hexfline.set_xdata(time_stamps)\n",
    "            hexbline.set_ydata(HeatExB_temps)\n",
    "            hexbline.set_xdata(time_stamps)\n",
    "            chamberline.set_ydata(chamber_temps)\n",
    "            chamberline.set_xdata(time_stamps)\n",
    "        else:\n",
    "            chline.set_ydata(coldhead_temps[-300:])\n",
    "            chline.set_xdata(time_stamps[-300:])\n",
    "            hexfline.set_ydata(HeatExF_temps[-300:])\n",
    "            hexfline.set_xdata(time_stamps[-300:])\n",
    "            hexbline.set_ydata(HeatExB_temps[-300:])\n",
    "            hexbline.set_xdata(time_stamps[-300:])\n",
    "            chamberline.set_ydata(chamber_temps[-300:])\n",
    "            chamberline.set_xdata(time_stamps[-300:])\n",
    "        #ax.set_ylim(0,24)\n",
    "        ax.set_xticks(time_stamps[-301::50])\n",
    "        ax.set_xticklabels(time_stamps[-301::50],rotation=25)\n",
    "        ax.relim()\n",
    "        ax.autoscale_view()\n",
    "        fig.canvas.draw()\n",
    "        fig.canvas.flush_events()\n",
    "        elapsed = time.time() - now  # how long was it running?\n",
    "        #print(elapsed)\n",
    "        try:time.sleep(2.-elapsed)\n",
    "        except: time.sleep(1)\n",
    "\n",
    "#Opens the relays (stops the heaters) when program interrupted\n",
    "except Exception as e:\n",
    "    HeaterF.value = False\n",
    "    HeatF_on = False\n",
    "   \n",
    "    HeaterB.value = False\n",
    "    HeatB_on = False\n",
    "    print(e)\n",
    "    print('Interrupted')"
   ]
  },
  {
   "cell_type": "code",
   "execution_count": null,
   "id": "1d6bcd14-2a89-47a2-b664-096cd0b3d42d",
   "metadata": {},
   "outputs": [],
   "source": []
  }
 ],
 "metadata": {
  "kernelspec": {
   "display_name": "Python 3 (ipykernel)",
   "language": "python",
   "name": "python3"
  },
  "language_info": {
   "codemirror_mode": {
    "name": "ipython",
    "version": 3
   },
   "file_extension": ".py",
   "mimetype": "text/x-python",
   "name": "python",
   "nbconvert_exporter": "python",
   "pygments_lexer": "ipython3",
   "version": "3.9.2"
  }
 },
 "nbformat": 4,
 "nbformat_minor": 5
}
