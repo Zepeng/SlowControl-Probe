{
 "cells": [
  {
   "cell_type": "markdown",
   "id": "84fc8f5f-63ab-4487-9dea-447928269b09",
   "metadata": {
    "tags": []
   },
   "source": [
    "# Temperature Control\n",
    "Author: Andrei Gogosha"
   ]
  },
  {
   "cell_type": "markdown",
   "id": "c147c2ec-7f26-4065-bc8f-e21c9dbc100d",
   "metadata": {},
   "source": [
    "Import all the necessary packages for the controller."
   ]
  },
  {
   "cell_type": "code",
   "execution_count": 1,
   "id": "b34fbf81-82be-45f4-a710-344211c44962",
   "metadata": {},
   "outputs": [],
   "source": [
    "from distutils.log import error\n",
    "import board\n",
    "import digitalio\n",
    "import adafruit_max31856\n",
    "import PID\n",
    "import time\n",
    "from datetime import datetime as dt\n",
    "import csv\n",
    "import matplotlib\n",
    "matplotlib.use(\"tkAgg\")\n",
    "import matplotlib.pyplot as plt\n",
    "import numpy as np\n",
    "import keyboard\n",
    "from tclab import clock, setup, Historian, Plotter\n",
    "import os\n",
    "import pandas\n",
    "from IPython.display import clear_output\n",
    "import traceback"
   ]
  },
  {
   "cell_type": "markdown",
   "id": "6942d2db-1793-416b-b11f-c9877d7374db",
   "metadata": {},
   "source": [
    "Get current directory so we can save log files in a separate folder."
   ]
  },
  {
   "cell_type": "code",
   "execution_count": 2,
   "id": "41b1778c-526a-448e-b0f3-7078425bd163",
   "metadata": {},
   "outputs": [],
   "source": [
    "ROOT_DIR = os.path.realpath(os.path.join(os.path.dirname(\"Temperature Control.ipynb\")))"
   ]
  },
  {
   "cell_type": "markdown",
   "id": "bce952a4-33c6-42d9-acbb-ea5c745e3cbc",
   "metadata": {},
   "source": [
    "Define functions to open a csv file that will be used for the temperature logs and other running information. This cell also includes a function that corrects the thermocouple temperature read by the ADAFRUIT MAX31856 amplifier using a two point calibration as described here :https://learn.adafruit.com/calibrating-sensors/two-point-calibration "
   ]
  },
  {
   "cell_type": "code",
   "execution_count": 3,
   "id": "665f7672-f582-49b3-9411-6913c87d9e06",
   "metadata": {},
   "outputs": [],
   "source": [
    "def log_temps(f_name,header,data):\n",
    "    temp_log_w=csv.writer(log_file)\n",
    "    temp_log_w.writerow(data)\n",
    "\n",
    "def open_file(file_name,data_header):\n",
    "    log_file = open(os.path.join(ROOT_DIR, 'Logs', file_name),'w',encoding='UTF8', newline='')     #Open the log file in the Log subfolder of the working directory with the specified filename\n",
    "    temp_log_w = csv.writer(log_file)\n",
    "    temp_log_w.writerow(data_header)     # writes the data header for the csv file\n",
    "    \n",
    "    return log_file     # returns the log file so it can be saved as a variable and manipulated later\n",
    "\n",
    "\n",
    "def calibrated_temps(temp, TC):\n",
    "    if 'HeatExB' in TC:\n",
    "        RawRange =  121\n",
    "        ReferenceRange = 126\n",
    "        ActualTemp = (((temp + 117) * ReferenceRange) / RawRange) - 108\n",
    "    if 'HeatExF' in TC:\n",
    "        RawRange = 184\n",
    "        ReferenceRange = 179\n",
    "        ActualTemp = (((temp + 174) * ReferenceRange) / RawRange) - 161\n",
    "    if 'ColdHead' in TC:\n",
    "        #RawRange = 187\n",
    "        #ReferenceRange = 185\n",
    "        #ActualTemp = (((temp + 167) * ReferenceRange) / RawRange) - 171\n",
    "        #Coldhead was consistent in its measurements, atleast at high temps, so leave it alone (pending more testing)\n",
    "        ActualTemp = temp\n",
    "    if 'Chamber' in TC:\n",
    "        #RawRange = 35\n",
    "        #ReferenceRange = 35\n",
    "        #At both high and low temps, Chamber was consistently 8 degrees colder than the thermometer measured\n",
    "        ActualTemp = temp + 7.6\n",
    "        \n",
    "    return ActualTemp"
   ]
  },
  {
   "cell_type": "markdown",
   "id": "7f7cdbf9-62ac-4829-af3e-f0acec037e88",
   "metadata": {},
   "source": [
    "Create the temperature log files using the current date and time in the format month day year then hour and minute. This cell also creates the header for the temperature log files"
   ]
  },
  {
   "cell_type": "code",
   "execution_count": 4,
   "id": "bda16be6-6ee5-4131-85f9-05d539231af3",
   "metadata": {},
   "outputs": [],
   "source": [
    "data_f_name='Temp log {}.csv'.format(dt.now().strftime('%m-%d-%Y, %H-%M'))\n",
    "data_header=['Rt', 'temp_ch', 'temp_hex_f', 'temp_hex_b', 'temp_chamber','Heat F','Heat B']\n",
    "# header reads [Real time, Cold head temp, Heat exchander front temp, heat exhchanger back temp, champer temp, PID controler 1 output, Heater 1 status, PID controler 2 output, Heater 2 status]\n",
    "log_file = open_file(data_f_name,data_header)"
   ]
  },
  {
   "cell_type": "markdown",
   "id": "e3e7605b-a7bf-4320-b025-b98013277ed0",
   "metadata": {},
   "source": [
    "Define the coldhead, heat exchanger front and back, chamber, and heater entities that will be controled."
   ]
  },
  {
   "cell_type": "code",
   "execution_count": 5,
   "id": "4c1f3a66-43b9-4cf0-be97-9c952b74b6f1",
   "metadata": {},
   "outputs": [],
   "source": [
    "# Create sensor object, communicating over the board's default SPI bus\n",
    "spi = board.SPI()\n",
    "\n",
    "# allocate a CS pin and set the direction\n",
    "cs13 = digitalio.DigitalInOut(board.D13)\n",
    "cs13.direction = digitalio.Direction.OUTPUT\n",
    "cs16 = digitalio.DigitalInOut(board.D16)\n",
    "cs16.direction = digitalio.Direction.OUTPUT\n",
    "cs25 = digitalio.DigitalInOut(board.D25)\n",
    "cs25.direction = digitalio.Direction.OUTPUT\n",
    "cs26 = digitalio.DigitalInOut(board.D26)\n",
    "cs26.direction = digitalio.Direction.OUTPUT\n",
    "HeaterF = digitalio.DigitalInOut(board.D17)\n",
    "HeaterF.direction= digitalio.Direction.OUTPUT\n",
    "HeaterB = digitalio.DigitalInOut(board.D18)\n",
    "HeaterB.direction = digitalio.Direction.OUTPUT\n",
    "\n",
    "# create a thermocouple object with the above pin assignements\n",
    "ColdHead = adafruit_max31856.MAX31856(spi, cs13,thermocouple_type=adafruit_max31856.ThermocoupleType.T)\n",
    "HeatExF = adafruit_max31856.MAX31856(spi, cs16,thermocouple_type=adafruit_max31856.ThermocoupleType.T)     #Heat exchanger thermocouple facing the coldhead\n",
    "HeatExB = adafruit_max31856.MAX31856(spi, cs25,thermocouple_type=adafruit_max31856.ThermocoupleType.T)     #Heat exchanger thermocouple facing the chamber\n",
    "Chamber = adafruit_max31856.MAX31856(spi, cs26,thermocouple_type=adafruit_max31856.ThermocoupleType.T)\n"
   ]
  },
  {
   "cell_type": "markdown",
   "id": "34f0ff7c-f1ba-44e7-87a3-44e067d7a31f",
   "metadata": {},
   "source": [
    "Initiate PID controls for Front Heat Exchanger"
   ]
  },
  {
   "cell_type": "code",
   "execution_count": 6,
   "id": "8fa19536-7da1-4822-b000-a91f8dd8f74d",
   "metadata": {},
   "outputs": [],
   "source": [
    "HeaterF.value = False\n",
    "HeatF_on=False\n",
    "targetT1 = -115   #initial inputs for PID control\n",
    "P1 = 0.2*0.6\n",
    "I1 = 1.2*0.2/60\n",
    "D1 = 3*0.2*60/40\n",
    "\n",
    "controllerF = PID.PID(P1, I1, D1)        # create pid control\n",
    "controllerF.SetPoint = targetT1             # initialize the controler\n",
    "controllerF.setSampleTime(0.5)"
   ]
  },
  {
   "cell_type": "markdown",
   "id": "8cabaed0-b1dd-4f42-965d-edfed3511f64",
   "metadata": {},
   "source": [
    "Initiate PID controls for Back Heat Exchanger"
   ]
  },
  {
   "cell_type": "markdown",
   "id": "ea9ab58f-482b-407e-9bf2-8cf11eac894c",
   "metadata": {},
   "source": [
    "old\n",
    "P1 = 0.7*0.6\n",
    "I1 = 0.7*1.2/58\n",
    "D1 = 3*0.7*58/40"
   ]
  },
  {
   "cell_type": "code",
   "execution_count": 7,
   "id": "f6672264-614f-45dc-8c16-52b61645d981",
   "metadata": {
    "tags": []
   },
   "outputs": [],
   "source": [
    "HeaterB.value = False \n",
    "HeatB_on = False\n",
    "targetT2 = -94.5     #initial inputr fot PID control\n",
    "P2 = 0.2*0.6\n",
    "I2 = 1.2*0.2/60\n",
    "D2 = 3*0.2*60/40\n",
    "\n",
    "controllerB = PID.PID(P2, I2, D2)     #creats the pid control\n",
    "controllerB.SetPoint = targetT2     #initialize the controler\n",
    "controllerB.setSampleTime(0.5)"
   ]
  },
  {
   "cell_type": "markdown",
   "id": "18e40c63-990d-49d7-9c2b-2c704b5e73cc",
   "metadata": {},
   "source": [
    "Read the coldhead, heat exchanger front and back, chamber temperatures then log them. These values are taken for initialization purposes"
   ]
  },
  {
   "cell_type": "code",
   "execution_count": 8,
   "id": "594198ff-e4d3-4104-a85f-43f99e78b5ef",
   "metadata": {},
   "outputs": [
    {
     "name": "stdout",
     "output_type": "stream",
     "text": [
      "17.9453125 17.98479959239131 24.158445247933884 17.6390625\n"
     ]
    }
   ],
   "source": [
    "ColdHead.initiate_one_shot_measurement()\n",
    "HeatExF.initiate_one_shot_measurement()\n",
    "HeatExB.initiate_one_shot_measurement()\n",
    "Chamber.initiate_one_shot_measurement()\n",
    "temp_coldhead=calibrated_temps(ColdHead.unpack_temperature(), 'ColdHead')\n",
    "temp_HeatExF=calibrated_temps(HeatExF.unpack_temperature(),'HeatExF')\n",
    "temp_HeatExB=calibrated_temps(HeatExB.unpack_temperature(),'HeatExB')\n",
    "temp_chamber=calibrated_temps(Chamber.unpack_temperature(), 'Chamber')\n",
    "MV1 = controllerF.output # get the new pid values\n",
    "MV2 = controllerB.output\n",
    "HeatF_status = 0 #0=False 1=True\n",
    "HeatB_status = 0 #0=False 1=True\n",
    "time_stamp = dt.now().strftime('%H:%M:%S')\n",
    "print(temp_coldhead, temp_HeatExF, temp_HeatExB, temp_chamber)\n",
    "log_temps(data_f_name,data_header,[dt.now().strftime('%H:%M:%S'), temp_coldhead, temp_HeatExF, temp_HeatExB, temp_chamber,HeatF_status, HeatB_status])\n",
    "log_file.flush() #pushes the data collected this loop to the csv."
   ]
  },
  {
   "cell_type": "code",
   "execution_count": 9,
   "id": "1152763a-9e9e-4893-bbcc-bcfb122a75cb",
   "metadata": {},
   "outputs": [
    {
     "name": "stderr",
     "output_type": "stream",
     "text": [
      "/tmp/ipykernel_30473/4263136039.py:11: UserWarning: 'set_params()' not defined for locator of type <class 'matplotlib.category.StrCategoryLocator'>\n",
      "  ax.locator_params(tight=True, nbins=10)\n"
     ]
    },
    {
     "data": {
      "text/plain": [
       "Text(0, 0.5, 'Temperature (Celsius)')"
      ]
     },
     "execution_count": 9,
     "metadata": {},
     "output_type": "execute_result"
    }
   ],
   "source": [
    "Ledger=np.array([[time_stamp], [temp_coldhead], [temp_HeatExF], [temp_HeatExB], [temp_chamber], [MV1], [HeatF_status], [MV2], [HeatB_status]])\n",
    "                #dtype=[('time_stamp','str'),('temp_coldhead','float'),('temp_HeatExF','float'),('temp_HeatExB','float')\\\n",
    "                 #      ,('temp_chamber','float'),('MV1','float'),('HeatF_status','int'),('MV2','float'),('HeatB_status','int')])\n",
    "\n",
    "plt.ion()     #creates a floating interactive matplotlib plot \n",
    "fig, ax = plt.subplots(figsize=(12,5))     #initialize plots for the coldhead, heat exchanger front and back, chamber and put them all in one larer plot\n",
    "chline,  = ax.plot(Ledger[0,:], Ledger[1,:].astype('float32'), label='Cold Head')\n",
    "hexfline, = ax.plot(Ledger[0,:], Ledger[2,:].astype('float32'), label='Heat Exchanger Front')\n",
    "hexbline, = ax.plot(Ledger[0,:], Ledger[3,:].astype('float32'), label='Heat Exchanger Back')\n",
    "chamberline, =ax.plot(Ledger[0,:], Ledger[4,:].astype('float32'), label='Chamber')\n",
    "ax.locator_params(tight=True, nbins=10)\n",
    "ax.legend()\n",
    "ax.set_xlabel('Time (Hour:Min)')\n",
    "ax.set_ylabel('Temperature (Celsius)')"
   ]
  },
  {
   "cell_type": "markdown",
   "id": "ec9218b9-d6ea-4b55-83ab-b525d36fd59b",
   "metadata": {},
   "source": [
    "Create the temperature plot"
   ]
  },
  {
   "cell_type": "code",
   "execution_count": 14,
   "id": "d0be48aa-53de-4e87-86f6-1f8c20118174",
   "metadata": {},
   "outputs": [
    {
     "name": "stdout",
     "output_type": "stream",
     "text": [
      "0.17505574226379395\n",
      "┌────┬──────────┬────────────┬────────────────────────┬───────────────────────┬───────────┬───────────────┬───────────────────┬───────────────┬───────────────────┐\n",
      "│    │ Time     │   Coldhead │   Heat Exchanger Front │   Heat Exchanger Back │   Chamber │   PID1 Output │   Heater17 Status │   PID2 Output │   Heater18 Status │\n",
      "├────┼──────────┼────────────┼────────────────────────┼───────────────────────┼───────────┼───────────────┼───────────────────┼───────────────┼───────────────────┤\n",
      "│  0 │ 11:12:54 │      17.92 │                  18.18 │                17.954 │    18.084 │      -16.1172 │                 0 │      -13.5469 │                 0 │\n",
      "│  1 │ 11:12:55 │      17.91 │                  18.00 │                18.000 │    18.046 │      -15.8767 │                 0 │      -13.6208 │                 0 │\n",
      "│  2 │ 11:12:56 │      17.98 │                  18.02 │                17.863 │    18.122 │      -16.0633 │                 0 │      -13.4404 │                 0 │\n",
      "│  3 │ 11:12:57 │      17.98 │                  18.02 │                17.954 │    18.106 │       -16.035 │                 0 │      -13.6566 │                 0 │\n",
      "│  4 │ 11:12:58 │      18.05 │                  18.00 │                17.985 │    18.038 │      -16.0263 │                 0 │      -13.6055 │                 0 │\n",
      "│  5 │ 11:12:59 │      17.91 │                  18.04 │                17.985 │    18.076 │      -16.0784 │                 0 │      -13.5782 │                 0 │\n",
      "│  6 │ 11:13:00 │      17.92 │                  18.10 │                17.924 │    18.099 │      -16.0941 │                 0 │      -13.5287 │                 0 │\n",
      "│  7 │ 11:13:02 │      17.91 │                  18.04 │                17.985 │    18.046 │      -16.0145 │                 0 │      -13.6082 │                 0 │\n",
      "│  8 │ 11:13:04 │      17.88 │                  18.06 │                17.916 │    18.122 │      -16.0589 │                 0 │      -13.5351 │                 0 │\n",
      "│  9 │ 11:13:05 │      17.96 │                  18.06 │                18.046 │    18.046 │      -16.0473 │                 0 │      -13.6889 │                 0 │\n",
      "│ 10 │ 11:13:07 │      17.88 │                  18.02 │                18.000 │    18.023 │       -16.015 │                 0 │      -13.5532 │                 0 │\n",
      "│ 11 │ 11:13:08 │      17.81 │                  18.02 │                17.878 │    18.015 │       -16.047 │                 0 │       -13.497 │                 0 │\n",
      "│ 12 │ 11:13:10 │      17.85 │                  18.02 │                18.015 │    17.954 │      -16.0377 │                 0 │      -13.6555 │                 0 │\n",
      "│ 13 │ 11:13:11 │      17.85 │                  18.00 │                17.977 │    18.122 │       -16.031 │                 0 │      -13.5548 │                 0 │\n",
      "│ 14 │ 11:13:12 │      17.98 │                  18.04 │                17.916 │    18.106 │      -16.0784 │                 0 │      -13.5158 │                 0 │\n",
      "│ 15 │ 11:13:13 │      17.94 │                  18.02 │                17.924 │    18.015 │      -16.0289 │                 0 │      -13.5778 │                 0 │\n",
      "│ 16 │ 11:13:15 │      17.98 │                  18.02 │                17.916 │    18.023 │      -16.0427 │                 0 │       -13.564 │                 0 │\n",
      "│ 17 │ 11:13:16 │      17.91 │                  18.05 │                17.954 │    18.122 │      -16.0658 │                 0 │      -13.6085 │                 0 │\n",
      "│ 18 │ 11:13:17 │      17.88 │                  18.00 │                17.954 │    18.023 │      -15.9987 │                 0 │      -13.5745 │                 0 │\n",
      "│ 19 │ 11:13:18 │      17.91 │                  18.08 │                17.985 │    18.076 │      -16.1112 │                 0 │       -13.603 │                 0 │\n",
      "└────┴──────────┴────────────┴────────────────────────┴───────────────────────┴───────────┴───────────────┴───────────────────┴───────────────┴───────────────────┘\n",
      "0.1412959098815918\n"
     ]
    },
    {
     "name": "stderr",
     "output_type": "stream",
     "text": [
      "\n",
      "KeyboardInterrupt\n",
      "\n"
     ]
    }
   ],
   "source": [
    "print_head=[\"Time\" ,\"Coldhead\", \"Heat Exchanger Front\", \"Heat Exchanger Back\", \"Chamber\", \"PID1 Output\", \"Heater17 Status\", \"PID2 Output\", \"Heater18 Status\"]\n",
    "try:     # try and excep statement used to catch error and log them to a specified file\n",
    "    runlen=1\n",
    "    itt_len=6\n",
    "    while True:\n",
    "        now = time.time() # keep track of when the loop starts so that we keep a consistant loop runtime \n",
    "        clear_output(wait=True)     #clears the print output from this cell \n",
    "        if os.stat(os.path.join(ROOT_DIR, 'Logs', data_f_name)).st_size>= 4194304:     #checks if the current log file is 4Mb, if it is it creates a new log file \n",
    "                data_f_name='Temp log {}.csv'.format(dt.now().strftime('%m-%d-%Y, %H-%M'))\n",
    "                log_file.close()\n",
    "                log_file = open_file(data_f_name, data_header)\n",
    "        #reads the coldhead, heat exchanger front and back, chamber temepratures\n",
    "        t1=time.time()\n",
    "        ColdHead.initiate_one_shot_measurement()\n",
    "        HeatExF.initiate_one_shot_measurement()\n",
    "        HeatExB.initiate_one_shot_measurement()\n",
    "        Chamber.initiate_one_shot_measurement()\n",
    "        ColdHead._wait_for_oneshot()\n",
    "        temp_coldhead=calibrated_temps(ColdHead.unpack_temperature(), 'ColdHead')\n",
    "        if not HeatExF.oneshot_pending:\n",
    "            temp_HeatExF=calibrated_temps(HeatExF.unpack_temperature(),'HeatExF')\n",
    "        else:\n",
    "            HeatExF._wait_for_oneshot()\n",
    "            temp_HeatExF=calibrated_temps(HeatExF.unpack_temperature(),'HeatExF')\n",
    "        if not HeatExB.oneshot_pending:\n",
    "            temp_HeatExB=calibrated_temps(HeatExB.unpack_temperature(),'HeatExF')\n",
    "        else:\n",
    "            HeatExB._wait_for_oneshot()\n",
    "            temp_HeatExB=calibrated_temps(HeatExB.unpack_temperature(),'HeatExF')\n",
    "        if not Chamber.oneshot_pending:\n",
    "            temp_chamber=calibrated_temps(Chamber.unpack_temperature(),'HeatExF')\n",
    "        else:\n",
    "            Chamber._wait_for_oneshot()\n",
    "            temp_chamber=calibrated_temps(Chamber.unpack_temperature(),'HeatExF')\n",
    "        t2=time.time()\n",
    "        print(t2 - t1)\n",
    "        #temp_coldhead=calibrated_temps(ColdHead.temperature, 'ColdHead')\n",
    "        #temp_HeatExF=calibrated_temps(HeatExF.temperature,'HeatExF')\n",
    "        #temp_HeatExB=calibrated_temps(HeatExB.temperature,'HeatExB')\n",
    "        #temp_chamber=calibrated_temps(Chamber.temperature, 'Chamber')\n",
    "        controllerF.update(temp_HeatExF) # update the pid controlers\n",
    "        controllerB.update(temp_HeatExB)\n",
    "        MV1 = controllerF.output # get the new pid values\n",
    "        MV2 = controllerB.output\n",
    "        if MV1 > 0:      #temp too low turn heater on\n",
    "            HeaterF.value = True\n",
    "            HeatF_status = 1\n",
    "        else:     #turn heat off\n",
    "            HeaterF.value = False\n",
    "            HeatF_status = 0\n",
    "        if MV2 > 0:     #temp too low turn heater on\n",
    "            HeaterB.value = True\n",
    "            HeatB_status = 1\n",
    "        else:     #turn heat off\n",
    "            HeaterB.value = False\n",
    "            HeatB_status = 0\n",
    "        time_stamp= dt.now().strftime('%H:%M:%S')     #timestamp used for x axis tick\n",
    "        t3 = time.time()\n",
    "        Ledger=np.append(Ledger,[[time_stamp], [temp_coldhead], [temp_HeatExF], [temp_HeatExB], [temp_chamber], [MV1], [HeatF_status], [MV2], [HeatB_status]],axis=1 )\n",
    "        P_Ledger=Ledger.transpose()\n",
    "        to_print=pandas.DataFrame(columns=print_head)     #using a pandas dataframe create a pretty real time readout of the temperatures and status of the heaters\n",
    "        for i in P_Ledger[-20:,:]:\n",
    "            to_print.loc[len(to_print.index)]=i\n",
    "        print(to_print.to_markdown(tablefmt=\"simple_outline\",floatfmt=(\".2f\",\".2f\",\".2f\",\".2f\",\".3f\",\".3f\"),numalign=\"right\"))\n",
    "        if runlen==itt_len:     #change to be however many itterations you want before updating logs\n",
    "            Coldhead_avg=np.average(Ledger[1,-itt_len:].astype('float32'))\n",
    "            HeatExF_avg=np.average(Ledger[2,-itt_len:].astype('float32'))\n",
    "            HeatExB_avg=np.average(Ledger[3,-itt_len:].astype('float32'))\n",
    "            Chamber_avg=np.average(Ledger[4,-itt_len:].astype('float32'))\n",
    "            log_temps(data_f_name,data_header,[time_stamp, Coldhead_avg, HeatExF_avg, HeatExB_avg, Chamber_avg, HeatF_status , HeatB_status])     #write to temp log file\n",
    "            log_file.flush() #pushes the data collected this loop to the csv.\n",
    "            runlen = 0\n",
    "        if len(Ledger[1])>=601:     #create a 10 minute plot of temperature data\n",
    "            Ledger=np.delete(Ledger, obj=0,axis=1)\n",
    "        t4=time.time()\n",
    "        print(t4-t3)\n",
    "        chline.set_ydata(Ledger[1,:].astype('float32'))\n",
    "        chline.set_xdata(Ledger[0,:])\n",
    "        hexfline.set_ydata(Ledger[2,:].astype('float32'))\n",
    "        hexfline.set_xdata(Ledger[0,:])\n",
    "        hexbline.set_ydata(Ledger[3,:].astype('float32'))\n",
    "        hexbline.set_xdata(Ledger[0,:])\n",
    "        chamberline.set_ydata(Ledger[4,:].astype('float32'))\n",
    "        chamberline.set_xdata(Ledger[0,:])\n",
    "        ax.set_xticks(Ledger[0,-601::50])     #10 minutes of timestamps in 100 second intervals\n",
    "        ax.set_xticklabels(Ledger[0,-601::50],rotation=25)\n",
    "        ax.relim()\n",
    "        ax.autoscale_view()\n",
    "        fig.canvas.draw()\n",
    "        fig.canvas.flush_events()\n",
    "        elapsed = time.time() - now # how long was it running?\n",
    "        print(elapsed)\n",
    "        try:time.sleep(1-elapsed)     # make the loop run every 1 seconds\n",
    "        except: time.sleep(0.1)\n",
    "        runlen += 1\n",
    "        \n",
    "#Opens the relays (stops the heaters) when program interrupted\n",
    "except Exception as e:\n",
    "    HeaterF.value = False\n",
    "    HeatF_on = False\n",
    "    HeaterB.value = False\n",
    "    HeatB_on = False\n",
    "    \n",
    "    if e == 'KeyboardInterrupt':\n",
    "        print('Interrupted')\n",
    "    else:      #code to write any errors to a specified error log file in the logs subdirectory of the working directory\n",
    "        if not os.path.exists(os.path.join(ROOT_DIR, 'Logs', 'Error Logs.txt')):\n",
    "            with open(os.path.join(ROOT_DIR, 'Logs', 'Error Logs'), 'w', encoding='UTF-8') as file:\n",
    "                file.write('')\n",
    "        with open(os.path.join(ROOT_DIR, 'Logs', 'Error Logs'), 'a', encoding='UTF-8') as file:\n",
    "            file.write('-------------------------------------------------'+'\\n')\n",
    "            file.write(dt.now().strftime('%Y-%m-%d %H:%M:%S')+'\\n')\n",
    "            traceback.print_exc(file=file)\n",
    "            file.write('\\n')\n",
    "        traceback.print_exc()"
   ]
  },
  {
   "cell_type": "code",
   "execution_count": 11,
   "id": "2e094560-1720-42da-baab-7416558ea03d",
   "metadata": {},
   "outputs": [],
   "source": [
    "#print(len(Ledger[1]))"
   ]
  },
  {
   "cell_type": "markdown",
   "id": "2886099d-b90e-496a-b1f7-25ab014ce24e",
   "metadata": {},
   "source": [
    "Loop that reads the temperatures of the coldhead, heat exchanger front and back, chamber logs them, updates the PID control and runs the heater, then plots the tmperatures."
   ]
  },
  {
   "cell_type": "code",
   "execution_count": 12,
   "id": "5e2818f1-bc6f-4f49-a748-0f3deeeab8db",
   "metadata": {},
   "outputs": [],
   "source": [
    "# plot_window = 1\n",
    "# coldhead_temps = np.array(np.zeros([plot_window]))     #initialize numpy arrays for the temperatures of the coldhead, heat exchanger front and back, chamber\n",
    "# HeatExF_temps = np.array(np.zeros([plot_window]))\n",
    "# HeatExB_temps = np.array(np.zeros([plot_window]))\n",
    "# chamber_temps = np.array(np.zeros([plot_window]))\n",
    "# coldhead_temps[0] = temp_coldhead # Sets the first value of each plot line\n",
    "# HeatExF_temps[0] = temp_HeatExF\n",
    "# HeatExB_temps[0] = temp_HeatExB\n",
    "# chamber_temps[0] = temp_chamber\n",
    "# time_stamps = []\n",
    "\n",
    "# for i in range(plot_window):     #creates first timestamp that will be used for the x axis tick marks\n",
    "#     time_stamps.append(dt.now().strftime('%H:%M:%S'))\n",
    "#     #x_var.append(time.asctime(time.time()))\n",
    "# plt.ion()     #creates a floating interactive matplotlib plot \n",
    "# fig, ax = plt.subplots(figsize=(12,5))     #initialize plots for the coldhead, heat exchanger front and back, chamber and put them all in one larer plot\n",
    "# chline,  = ax.plot(time_stamps, coldhead_temps, label='Cold Head')\n",
    "# hexfline, = ax.plot(time_stamps, HeatExF_temps, label='Heat Exchanger Front')\n",
    "# hexbline, = ax.plot(time_stamps, HeatExB_temps, label='Heat Exchanger Back')\n",
    "# chamberline, =ax.plot(time_stamps, chamber_temps, label='Chamber')\n",
    "# ax.locator_params(tight=True, nbins=10)\n",
    "# ax.legend()\n",
    "# ax.set_xlabel('Time (Hour:Min)')\n",
    "# ax.set_ylabel('Temperature (Celsius)')\n",
    "# # NOTE this cell raises  a matplotlib error. Ignore it, it does not appear to have any impact on the functioning of the program"
   ]
  },
  {
   "cell_type": "code",
   "execution_count": 13,
   "id": "a43cca4a-cc80-4456-bf04-7a6315bf3ab0",
   "metadata": {
    "tags": []
   },
   "outputs": [],
   "source": [
    "# print_log=[]     #these two lines are used for the real time readout of the coldhead, heat exchanger front and back, chamber status\n",
    "# print_head=[\"Time\" ,\"Coldhead\", \"Heat Exchanger Front\", \"Heat Exchanger Back\", \"Chamber\", \"PID1 Output\", \"Heater17 Status\", \"PID2 Output\", \"Heater18 Status\"]\n",
    "# try:     # try and excep statement used to catch error and log them to a specified file\n",
    "#     runlen=0\n",
    "#     itt_len=10\n",
    "#     while True:\n",
    "#         now = time.time() # keep track of when the loop starts so that we keep a consistant loop runtime \n",
    "#         clear_output(wait=True)     #clears the print output from this cell \n",
    "#         if os.stat(os.path.join(ROOT_DIR, 'Logs', data_f_name)).st_size>= 4194304:     #checks if the current log file is 4Mb, if it is it creates a new log file \n",
    "#                 data_f_name='Temp log {}.csv'.format(dt.now().strftime('%m-%d-%Y, %H-%M'))\n",
    "#                 log_file.close()\n",
    "#                 log_file = open_file(data_f_name, data_header)\n",
    "#         temp_coldhead=calibrated_temps(ColdHead.temperature, 'ColdHead')     #reads the coldhead, heat exchanger front and back, chamber temepratures\n",
    "#         temp_HeatExF=calibrated_temps(HeatExF.temperature,'HeatExF')\n",
    "#         temp_HeatExB=calibrated_temps(HeatExB.temperature,'HeatExB')\n",
    "#         temp_chamber=calibrated_temps(Chamber.temperature, 'Chamber')\n",
    "#         controllerF.update(temp_HeatExF) # update the pid controlers\n",
    "#         controllerB.update(temp_HeatExB)\n",
    "#         MV1 = controllerF.output # get the new pid values\n",
    "#         MV2 = controllerB.output\n",
    "#         if MV1 > 0:      #temp too low turn heater on\n",
    "#             HeaterF.value = True\n",
    "#             HeatF_status = 1\n",
    "#         else:     #turn heat off\n",
    "#             HeaterF.value = False\n",
    "#             HeatF_status = 0\n",
    "#         if MV2 > 0:     #temp too low turn heater on\n",
    "#             HeaterB.value = True\n",
    "#             HeatB_status = 1\n",
    "#         else:     #turn heat off\n",
    "#             HeaterB.value = False\n",
    "#             HeatB_status = 0\n",
    "#         coldhead_temps = np.append(coldhead_temps, temp_coldhead)     #update numpy arrays of temps\n",
    "#         HeatExF_temps = np.append(HeatExF_temps, temp_HeatExF)\n",
    "#         HeatExB_temps = np.append(HeatExB_temps, temp_HeatExB)\n",
    "#         chamber_temps = np.append(chamber_temps, temp_chamber)\n",
    "#         time_stamps.append(dt.now().strftime('%H:%M:%S'))     #timestamp used for x axis tick\n",
    "#         if runlen==itt_len:     #change to be however many itterations you want before updating logs\n",
    "#             Coldhead_avg=np.avg(coldhead_temps[-itt_avg:])\n",
    "#             HeatExF=np.avg(HeatExF_temps[-itt_avg:])\n",
    "#             HeatExB=np.avg(HeatExB_temps[-itt_avg:])\n",
    "#             Chamber=np.avg(chamber_temps[-itt_avg:])\n",
    "#             log_temps(data_f_name,data_header,[dt.now().strftime('%Y-%m-%d %H:%M:%S'), temp_coldhead, temp_HeatExF, temp_HeatExB, temp_chamber, HeatF_status , HeatB_status])     #write to temp log file\n",
    "#             log_file.flush() #pushes the data collected this loop to the csv.\n",
    "#             runlen = 0\n",
    "#         log_temps(data_f_name,data_header,[dt.now().strftime('%Y-%m-%d %H:%M:%S'), temp_coldhead, temp_HeatExF, temp_HeatExB, temp_chamber, HeatF_status , HeatB_status])     #write to temp log file\n",
    "#         log_file.flush() #pushes the data collected this loop to the csv.\n",
    "#         if len(print_log)<=20:     #adds data to the print log if the log is less than 20 entries otherwise remove the oldest and then updats the log\n",
    "#             print_log.append([dt.now().strftime('%Y-%m-%d %H:%M:%S'), temp_coldhead, temp_HeatExF, temp_HeatExB, temp_chamber, HeatF_status , HeatB_status])\n",
    "#         else:\n",
    "#             print_log.pop(0)\n",
    "#             print_log.append([dt.now().strftime('%Y-%m-%d %H:%M:%S'), temp_coldhead, temp_HeatExF, temp_HeatExB, temp_chamber, MV1, HeatF_status, MV2, HeatB_status])\n",
    "#         to_print=pandas.DataFrame(print_log,index=None, columns=print_head)     #using a pandas dataframe create a pretty real time readout of the temperatures and status of the heaters\n",
    "        \n",
    "#         print(to_print.to_markdown(tablefmt=\"simple_outline\",floatfmt=(\".2f\",\".2f\",\".2f\",\".2f\",\".3f\",\".3f\"),numalign=\"right\"))\n",
    "#         if len(coldhead_temps)<=300:     #create a 10 minute plot of temperature data\n",
    "#             chline.set_ydata(coldhead_temps)\n",
    "#             chline.set_xdata(time_stamps)\n",
    "#             hexfline.set_ydata(HeatExF_temps)\n",
    "#             hexfline.set_xdata(time_stamps)\n",
    "#             hexbline.set_ydata(HeatExB_temps)\n",
    "#             hexbline.set_xdata(time_stamps)\n",
    "#             chamberline.set_ydata(chamber_temps)\n",
    "#             chamberline.set_xdata(time_stamps)\n",
    "#         else:# if the program has been running for longer than 10 minuts take the last 10 minuts of data for the plot\n",
    "#             chline.set_ydata(coldhead_temps[-300:])\n",
    "#             chline.set_xdata(time_stamps[-300:])\n",
    "#             hexfline.set_ydata(HeatExF_temps[-300:])\n",
    "#             hexfline.set_xdata(time_stamps[-300:])\n",
    "#             hexbline.set_ydata(HeatExB_temps[-300:])\n",
    "#             hexbline.set_xdata(time_stamps[-300:])\n",
    "#             chamberline.set_ydata(chamber_temps[-300:])\n",
    "#             chamberline.set_xdata(time_stamps[-300:])\n",
    "#         #ax.set_ylim(0,24)\n",
    "#         ax.set_xticks(time_stamps[-301::50])     #10 minutes of timestamps in 100 second intervals\n",
    "#         ax.set_xticklabels(time_stamps[-301::50],rotation=25)\n",
    "#         ax.relim()\n",
    "#         ax.autoscale_view()\n",
    "#         fig.canvas.draw()\n",
    "#         fig.canvas.flush_events()\n",
    "#         elapsed = time.time() - now  # how long was it running?\n",
    "#         try:time.sleep(1.-elapsed)     # make the loop run every 2 seconds\n",
    "#         except: time.sleep(0.5)\n",
    "#         runlen += 1\n",
    "        \n",
    "# #Opens the relays (stops the heaters) when program interrupted\n",
    "# except Exception as e:\n",
    "#     HeaterF.value = False\n",
    "#     HeatF_on = False\n",
    "#     HeaterB.value = False\n",
    "#     HeatB_on = False\n",
    "    \n",
    "#     if e == 'KeyboardInterrupt':\n",
    "#         print('Interrupted')\n",
    "#     else:      #code to write any errors to a specified error log file in the logs subdirectory of the working directory\n",
    "#         if not os.path.exists(os.path.join(ROOT_DIR, 'Logs', 'Error Logs.txt')):\n",
    "#             with open(os.path.join(ROOT_DIR, 'Logs', 'Error Logs'), 'w', encoding='UTF-8') as file:\n",
    "#                 file.write('')\n",
    "#         with open(os.path.join(ROOT_DIR, 'Logs', 'Error Logs'), 'a', encoding='UTF-8') as file:\n",
    "#             file.write('-------------------------------------------------'+'\\n')\n",
    "#             file.write(dt.now().strftime('%Y-%m-%d %H:%M:%S')+'\\n')\n",
    "#             traceback.print_exc(file=file)\n",
    "#             file.write('\\n')\n",
    "#         traceback.print_exc()"
   ]
  },
  {
   "cell_type": "code",
   "execution_count": null,
   "id": "1d6bcd14-2a89-47a2-b664-096cd0b3d42d",
   "metadata": {},
   "outputs": [],
   "source": []
  }
 ],
 "metadata": {
  "kernelspec": {
   "display_name": "Python 3 (ipykernel)",
   "language": "python",
   "name": "python3"
  },
  "language_info": {
   "codemirror_mode": {
    "name": "ipython",
    "version": 3
   },
   "file_extension": ".py",
   "mimetype": "text/x-python",
   "name": "python",
   "nbconvert_exporter": "python",
   "pygments_lexer": "ipython3",
   "version": "3.9.2"
  }
 },
 "nbformat": 4,
 "nbformat_minor": 5
}
