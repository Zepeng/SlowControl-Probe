{
 "cells": [
  {
   "cell_type": "markdown",
   "id": "0e3e6ca0-1323-4d04-90cd-dc99f06011f0",
   "metadata": {},
   "source": [
    "# Google drive uploader"
   ]
  },
  {
   "cell_type": "code",
   "execution_count": null,
   "id": "f50cdb09-07c4-4097-8e7b-877dbb028cad",
   "metadata": {},
   "outputs": [],
   "source": [
    "from pydrive.auth import GoogleAuth\n",
    "from pydrive.drive import GoogleDrive\n",
    "import time"
   ]
  },
  {
   "cell_type": "code",
   "execution_count": null,
   "id": "88dfd490-d44b-4dea-a7bb-1d44b18e4c5d",
   "metadata": {},
   "outputs": [],
   "source": [
    "gauth = GoogleAuth()           \n",
    "drive = GoogleDrive(gauth)\n",
    "ROOT_DIR = os.path.realpath(os.path.join(os.path.dirname(\"gdrive uploader.ipynb\")))\n",
    "while True:\n",
    "    dir_list = os.listdir(ROOT_DIR+\"/Logs/\")\n",
    "    print(dir_list)\n",
    "    drive_list = drive.ListFile({'q': \"'{}' in parents and trashed=false\".format('1AjdBXGGQBL21_eCqvytfljfD34Wa7Bvq')}).GetList()\n",
    "    for upload_file in dir_list:\n",
    "        if upload_file !in drive_list and os.stat(upload_file).st_size>= 4,194,304:\n",
    "            gfile = drive.CreateFile({'parents': [{'id': '1AjdBXGGQBL21_eCqvytfljfD34Wa7Bvq'}]})\n",
    "            # Read file and set it as the content of this instance.\n",
    "            gfile.SetContentFile(upload_file)\n",
    "            gfile.Upload() # Upload the file.\n",
    "    time.sleep(3600)"
   ]
  }
 ],
 "metadata": {
  "kernelspec": {
   "display_name": "Python 3 (ipykernel)",
   "language": "python",
   "name": "python3"
  },
  "language_info": {
   "codemirror_mode": {
    "name": "ipython",
    "version": 3
   },
   "file_extension": ".py",
   "mimetype": "text/x-python",
   "name": "python",
   "nbconvert_exporter": "python",
   "pygments_lexer": "ipython3",
   "version": "3.9.13"
  }
 },
 "nbformat": 4,
 "nbformat_minor": 5
}
