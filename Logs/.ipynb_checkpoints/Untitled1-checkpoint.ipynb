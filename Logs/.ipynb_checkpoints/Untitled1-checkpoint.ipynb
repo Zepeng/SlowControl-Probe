{
 "cells": [
  {
   "cell_type": "code",
   "execution_count": 1,
   "id": "83d73979-c160-4b5a-ab31-bfd148a4c341",
   "metadata": {},
   "outputs": [
    {
     "ename": "FileNotFoundError",
     "evalue": "[Errno 2] No such file or directory: '/home/nexo/work/Logs/1.11 Radon Data.txt'",
     "output_type": "error",
     "traceback": [
      "\u001b[0;31m---------------------------------------------------------------------------\u001b[0m",
      "\u001b[0;31mFileNotFoundError\u001b[0m                         Traceback (most recent call last)",
      "Cell \u001b[0;32mIn [1], line 18\u001b[0m\n\u001b[1;32m     15\u001b[0m             output\u001b[38;5;241m.\u001b[39mappend(\u001b[38;5;28mint\u001b[39m(temp_read[\u001b[38;5;241m1\u001b[39m]\u001b[38;5;241m.\u001b[39mstrip(\u001b[38;5;124m\"\u001b[39m\u001b[38;5;124m \u001b[39m\u001b[38;5;124m\"\u001b[39m)))\n\u001b[1;32m     16\u001b[0m     \u001b[38;5;28;01mreturn\u001b[39;00m output\n\u001b[0;32m---> 18\u001b[0m radon_levels\u001b[38;5;241m=\u001b[39m\u001b[43mdata_read\u001b[49m\u001b[43m(\u001b[49m\u001b[38;5;124;43m\"\u001b[39;49m\u001b[38;5;124;43m1.11 Radon Data.txt\u001b[39;49m\u001b[38;5;124;43m\"\u001b[39;49m\u001b[43m)\u001b[49m\n\u001b[1;32m     19\u001b[0m x_data\u001b[38;5;241m=\u001b[39mnp\u001b[38;5;241m.\u001b[39marange(\u001b[38;5;241m0\u001b[39m,\u001b[38;5;28mlen\u001b[39m(radon_levels))\n\u001b[1;32m     20\u001b[0m plt\u001b[38;5;241m.\u001b[39mfigure(figsize\u001b[38;5;241m=\u001b[39m(\u001b[38;5;241m20\u001b[39m, \u001b[38;5;241m20\u001b[39m))\n",
      "Cell \u001b[0;32mIn [1], line 11\u001b[0m, in \u001b[0;36mdata_read\u001b[0;34m(file_name)\u001b[0m\n\u001b[1;32m      9\u001b[0m output\u001b[38;5;241m=\u001b[39m[]\n\u001b[1;32m     10\u001b[0m file_name \u001b[38;5;241m=\u001b[39m os\u001b[38;5;241m.\u001b[39mpath\u001b[38;5;241m.\u001b[39mjoin(ROOT_DIR, file_name)\n\u001b[0;32m---> 11\u001b[0m \u001b[38;5;28;01mwith\u001b[39;00m \u001b[38;5;28;43mopen\u001b[39;49m\u001b[43m(\u001b[49m\u001b[43mfile_name\u001b[49m\u001b[43m,\u001b[49m\u001b[43m \u001b[49m\u001b[43mencoding\u001b[49m\u001b[38;5;241;43m=\u001b[39;49m\u001b[38;5;124;43m'\u001b[39;49m\u001b[38;5;124;43mutf8\u001b[39;49m\u001b[38;5;124;43m'\u001b[39;49m\u001b[43m)\u001b[49m \u001b[38;5;28;01mas\u001b[39;00m f:\n\u001b[1;32m     12\u001b[0m     lines\u001b[38;5;241m=\u001b[39mf\u001b[38;5;241m.\u001b[39mreadlines()[\u001b[38;5;241m6\u001b[39m:]\n\u001b[1;32m     13\u001b[0m     \u001b[38;5;28;01mfor\u001b[39;00m line \u001b[38;5;129;01min\u001b[39;00m lines:\n",
      "\u001b[0;31mFileNotFoundError\u001b[0m: [Errno 2] No such file or directory: '/home/nexo/work/Logs/1.11 Radon Data.txt'"
     ]
    }
   ],
   "source": [
    "import numpy as np\n",
    "import matplotlib\n",
    "import matplotlib.pyplot as plt \n",
    "import os\n",
    "\n",
    "ROOT_DIR = os.path.realpath(os.path.join(os.path.dirname(\"Temperature Control.ipynb\")))\n",
    "\n",
    "def data_read(file_name):\n",
    "    output=[]\n",
    "    file_name = os.path.join(ROOT_DIR, file_name)\n",
    "    with open(file_name, encoding='utf8') as f:\n",
    "        lines=f.readlines()[6:]\n",
    "        for line in lines:\n",
    "            temp_read=line.strip(\"\\n \").split(\")\\t\")\n",
    "            output.append(int(temp_read[1].strip(\" \")))\n",
    "    return output\n",
    "\n",
    "radon_levels=data_read(\"1.11 Radon Data.txt\")\n",
    "x_data=np.arange(0,len(radon_levels))\n",
    "plt.figure(figsize=(20, 20))\n",
    "plt.subplot(1,2,1)\n",
    "plt.plot(x_data,radon_levels,label=\"Radon Level\")\n",
    "#plt.ylim(-107,-103)\n",
    "plt.title(r\"Radon Level $\\frac{Bq}{m^3}$ vs Time Hours\")\n",
    "plt.xlabel(\"Time (Hours)\")\n",
    "plt.ylabel(r\"Radon Level ($\\frac{Bq}{m^3}$)\")\n",
    "#plt.xticks(tics[0],tics[1],rotation='vertical', fontsize=10)\n",
    "plt.subplot(1,2,2)\n",
    "plt.hist(radon_levels,label=\"Radon Level\", edgecolor=\"black\")\n",
    "plt.title(r\"Radon Level $\\frac{Bq}{m^3}$ vs Counts (Time: Hours)\")\n",
    "plt.xlabel(r\"Radon Level ($\\frac{Bq}{m^3}$)\")\n",
    "plt.ylabel(\"Counts (Time: Hours)\")\n",
    "plt.show()"
   ]
  },
  {
   "cell_type": "code",
   "execution_count": null,
   "id": "cc1d10d7-0358-452f-badb-5cc29b622ca2",
   "metadata": {},
   "outputs": [],
   "source": []
  }
 ],
 "metadata": {
  "kernelspec": {
   "display_name": "Python 3 (ipykernel)",
   "language": "python",
   "name": "python3"
  },
  "language_info": {
   "codemirror_mode": {
    "name": "ipython",
    "version": 3
   },
   "file_extension": ".py",
   "mimetype": "text/x-python",
   "name": "python",
   "nbconvert_exporter": "python",
   "pygments_lexer": "ipython3",
   "version": "3.9.2"
  }
 },
 "nbformat": 4,
 "nbformat_minor": 5
}
